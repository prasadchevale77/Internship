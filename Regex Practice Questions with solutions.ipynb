{
 "cells": [
  {
   "cell_type": "markdown",
   "id": "b5fb8ec4",
   "metadata": {},
   "source": [
    "### Question 1- Write a RegEx pattern in python program to check that a string contains only a certain set of characters (in this case a-z, A-Z and 0-9)."
   ]
  },
  {
   "cell_type": "code",
   "execution_count": 86,
   "id": "6548ff1e",
   "metadata": {},
   "outputs": [],
   "source": [
    "import pandas as pd\n",
    "import re"
   ]
  },
  {
   "cell_type": "code",
   "execution_count": 87,
   "id": "17ad1041",
   "metadata": {},
   "outputs": [
    {
     "name": "stdout",
     "output_type": "stream",
     "text": [
      "['The', 'thing', 'weighs', '25', 'kilograms', 'or', 'so']\n"
     ]
    }
   ],
   "source": [
    "sample = 'The thing weighs 25 kilograms or so.'\n",
    "\n",
    "pattern = '[a-zA-Z0-9]+'\n",
    "\n",
    "result = re.findall(pattern, sample)\n",
    "\n",
    "print(result)"
   ]
  },
  {
   "cell_type": "markdown",
   "id": "cf4dbbc0",
   "metadata": {},
   "source": [
    "### Question 2- Write a RegEx pattern that matches a string that has an a followed by zero or more b's"
   ]
  },
  {
   "cell_type": "code",
   "execution_count": 88,
   "id": "7ce8118b",
   "metadata": {},
   "outputs": [
    {
     "name": "stdout",
     "output_type": "stream",
     "text": [
      "match\n",
      "match\n",
      "Not match\n",
      "Not match\n"
     ]
    }
   ],
   "source": [
    "import re\n",
    "def prasad (text):\n",
    "        patterns = '^a(b*)$'\n",
    "        if re.search(patterns,  text):\n",
    "                return 'match'\n",
    "        else:\n",
    "                return('Not match')\n",
    "            \n",
    "print(prasad(\"abbbb\"))\n",
    "print(prasad(\"ab\"))\n",
    "print(prasad(\"abc\"))\n",
    "print(prasad(\"an\"))"
   ]
  },
  {
   "cell_type": "code",
   "execution_count": 89,
   "id": "8ba5a1d1",
   "metadata": {},
   "outputs": [
    {
     "name": "stdout",
     "output_type": "stream",
     "text": [
      "match\n",
      "match\n",
      "match\n",
      "Not match\n",
      "Found a match!\n"
     ]
    }
   ],
   "source": [
    "def prasad(text):\n",
    "        patterns = 'ab*?'\n",
    "        if re.search(patterns,  text):\n",
    "                return 'match'\n",
    "        else:\n",
    "                return('Not match')\n",
    "\n",
    "print(prasad(\"ac\"))\n",
    "print(prasad(\"a\"))\n",
    "print(prasad(\"abbc\"))\n",
    "print(prasad(\"b\"))\n",
    "print(text_match(\"abc\"))"
   ]
  },
  {
   "cell_type": "markdown",
   "id": "78f10259",
   "metadata": {},
   "source": [
    "### Question 3-  Write a RegEx pattern that matches a string that has an a followed by one or more b's"
   ]
  },
  {
   "cell_type": "code",
   "execution_count": 90,
   "id": "6bd5769c",
   "metadata": {},
   "outputs": [
    {
     "name": "stdout",
     "output_type": "stream",
     "text": [
      "Not match\n",
      "Not match\n",
      "match\n",
      "Not match\n",
      "match\n"
     ]
    }
   ],
   "source": [
    "def prasad(text):\n",
    "        patterns = 'ab+'\n",
    "        if re.search(patterns,  text):\n",
    "                return 'match'\n",
    "        else:\n",
    "                return('Not match')\n",
    "\n",
    "print(prasad(\"ac\"))\n",
    "print(prasad(\"a\"))\n",
    "print(prasad(\"abbc\"))\n",
    "print(prasad(\"b\"))\n",
    "print(prasad(\"abc\"))"
   ]
  },
  {
   "cell_type": "markdown",
   "id": "968efbe5",
   "metadata": {},
   "source": [
    "### Question 4- Write a RegEx pattern that matches a string that has an a followed by zero or one 'b'."
   ]
  },
  {
   "cell_type": "code",
   "execution_count": 91,
   "id": "15b8fd5c",
   "metadata": {},
   "outputs": [
    {
     "name": "stdout",
     "output_type": "stream",
     "text": [
      "match\n",
      "match\n",
      "match\n",
      "Not match\n",
      "match\n"
     ]
    }
   ],
   "source": [
    "def prasad(text):\n",
    "        patterns = 'ab?'\n",
    "        if re.search(patterns,  text):\n",
    "                return 'match'\n",
    "        else:\n",
    "                return('Not match')\n",
    "\n",
    "print(prasad(\"ac\"))\n",
    "print(prasad(\"a\"))\n",
    "print(prasad(\"abbc\"))\n",
    "print(prasad(\"b\"))\n",
    "print(prasad(\"abc\"))"
   ]
  },
  {
   "cell_type": "markdown",
   "id": "b37fe841",
   "metadata": {},
   "source": [
    "### Question 5- Write a RegEx pattern in python program that matches a string that has an a followed by three 'b'."
   ]
  },
  {
   "cell_type": "code",
   "execution_count": 92,
   "id": "7a23ffb2",
   "metadata": {},
   "outputs": [
    {
     "name": "stdout",
     "output_type": "stream",
     "text": [
      "Not match\n",
      "Not match\n",
      "match\n",
      "Not match\n",
      "match\n"
     ]
    }
   ],
   "source": [
    "def prasad(text):\n",
    "        patterns = 'ab{3}?'\n",
    "        if re.search(patterns,  text):\n",
    "                return 'match'\n",
    "        else:\n",
    "                return('Not match')\n",
    "\n",
    "print(prasad(\"ac\"))\n",
    "print(prasad(\"a\"))\n",
    "print(prasad(\"abbb\"))\n",
    "print(prasad(\"b\"))\n",
    "print(prasad(\"abbbb\"))"
   ]
  },
  {
   "cell_type": "markdown",
   "id": "8687eaed",
   "metadata": {},
   "source": [
    "### Question 6- Write a RegEx pattern in python program that matches a string that has an a followed by two to three 'b'."
   ]
  },
  {
   "cell_type": "code",
   "execution_count": 93,
   "id": "a2a9f978",
   "metadata": {},
   "outputs": [
    {
     "name": "stdout",
     "output_type": "stream",
     "text": [
      "Not match\n",
      "match\n",
      "match\n",
      "Not match\n",
      "match\n"
     ]
    }
   ],
   "source": [
    "def prasad(text):\n",
    "        patterns = 'ab{2,3}?'\n",
    "        if re.search(patterns,  text):\n",
    "                return 'match'\n",
    "        else:\n",
    "                return('Not match')\n",
    "\n",
    "print(prasad(\"ac\"))\n",
    "print(prasad(\"abb\"))\n",
    "print(prasad(\"abbb\"))\n",
    "print(prasad(\"b\"))\n",
    "print(prasad(\"abbbb\"))"
   ]
  },
  {
   "cell_type": "markdown",
   "id": "7edeec43",
   "metadata": {},
   "source": [
    "### Question 7- Write a Python program that matches a string that has an 'a' followed by anything, ending in 'b'."
   ]
  },
  {
   "cell_type": "code",
   "execution_count": 94,
   "id": "8a30466b",
   "metadata": {},
   "outputs": [
    {
     "name": "stdout",
     "output_type": "stream",
     "text": [
      "Not match\n",
      "match\n",
      "match\n",
      "Not match\n",
      "match\n"
     ]
    }
   ],
   "source": [
    "def prasad(text):\n",
    "        patterns = 'a.*?b$'\n",
    "        if re.search(patterns,  text):\n",
    "                return 'match'\n",
    "        else:\n",
    "                return('Not match')\n",
    "\n",
    "print(prasad(\"ac\"))\n",
    "print(prasad(\"abb\"))\n",
    "print(prasad(\"abbb\"))\n",
    "print(prasad(\"b\"))\n",
    "print(prasad(\"abbbb\"))"
   ]
  },
  {
   "cell_type": "markdown",
   "id": "6e1231bc",
   "metadata": {},
   "source": [
    "### Question 8- Write a RegEx pattern in python program that matches a word at the beginning of a string"
   ]
  },
  {
   "cell_type": "code",
   "execution_count": 95,
   "id": "66f53573",
   "metadata": {},
   "outputs": [
    {
     "name": "stdout",
     "output_type": "stream",
     "text": [
      "Found a match!\n",
      "Found a match!\n"
     ]
    }
   ],
   "source": [
    "def prasad(text):\n",
    "        patterns = '^\\w+'\n",
    "        if re.search(patterns,  text):\n",
    "                return 'Found a match!'\n",
    "        else:\n",
    "                return('Not matched!')\n",
    "\n",
    "print(prasad(\"1988 Virat is cricket player who was born on November 5\"))\n",
    "print(prasad(\"1988 Virat is cricket player who was born on November 5\"))"
   ]
  },
  {
   "cell_type": "code",
   "execution_count": 96,
   "id": "549cd159",
   "metadata": {},
   "outputs": [
    {
     "name": "stdout",
     "output_type": "stream",
     "text": [
      "<re.Match object; span=(0, 4), match='1988'>\n"
     ]
    }
   ],
   "source": [
    "prasad = \"1988 Virat is cricket player who was born on November 5\"\n",
    "\n",
    "pattern = \"^\\w+\"\n",
    "\n",
    "result = re.search(pattern, prasad)\n",
    "\n",
    "print(result)"
   ]
  },
  {
   "cell_type": "markdown",
   "id": "dbbb3bbb",
   "metadata": {},
   "source": [
    "### Question 9- Write a RegEx pattern in python program that matches a word at the end of a string."
   ]
  },
  {
   "cell_type": "code",
   "execution_count": 97,
   "id": "1bb96534",
   "metadata": {},
   "outputs": [
    {
     "name": "stdout",
     "output_type": "stream",
     "text": [
      "Found a match!\n",
      "Found a match!\n"
     ]
    }
   ],
   "source": [
    "def prasad(text):\n",
    "        patterns = '\\w+\\S*$'\n",
    "        if re.search(patterns,  text):\n",
    "                return 'Found a match!'\n",
    "        else:\n",
    "                return('Not matched!')\n",
    "\n",
    "print(prasad(\"1988 Virat is cricket player who was born on November 5\"))\n",
    "print(prasad(\"1988 Virat is cricket player who was born on November 5\"))"
   ]
  },
  {
   "cell_type": "code",
   "execution_count": 98,
   "id": "d1e3d679",
   "metadata": {},
   "outputs": [
    {
     "name": "stdout",
     "output_type": "stream",
     "text": [
      "<re.Match object; span=(54, 55), match='5'>\n"
     ]
    }
   ],
   "source": [
    "prasad = \"1988 Virat is cricket player who was born on November 5\"\n",
    "\n",
    "pattern = \"\\w+\\S*$\"\n",
    "\n",
    "result = re.search(pattern, prasad)\n",
    "\n",
    "print(result)"
   ]
  },
  {
   "cell_type": "markdown",
   "id": "26bb374f",
   "metadata": {},
   "source": [
    "### Question 10- Write a RegEx pattern in python program to find all words that are 4 digits long in a string.\n",
    "#### Sample text- '01 0132 231875 1458 301 2725.'\n",
    "#### Expected output- ['0132', '1458', '2725']"
   ]
  },
  {
   "cell_type": "code",
   "execution_count": 99,
   "id": "e2e13273",
   "metadata": {},
   "outputs": [
    {
     "name": "stdout",
     "output_type": "stream",
     "text": [
      "['0132', '1458', '2725']\n"
     ]
    }
   ],
   "source": [
    "Sample_text = '01 0132 231875 1458 301 2725.'\n",
    "\n",
    "result = re.findall(r\"\\b\\w{4}\\b\", Sample_text)\n",
    "\n",
    "print(result)"
   ]
  },
  {
   "cell_type": "code",
   "execution_count": null,
   "id": "7169c2f4",
   "metadata": {},
   "outputs": [],
   "source": []
  }
 ],
 "metadata": {
  "kernelspec": {
   "display_name": "Python 3 (ipykernel)",
   "language": "python",
   "name": "python3"
  },
  "language_info": {
   "codemirror_mode": {
    "name": "ipython",
    "version": 3
   },
   "file_extension": ".py",
   "mimetype": "text/x-python",
   "name": "python",
   "nbconvert_exporter": "python",
   "pygments_lexer": "ipython3",
   "version": "3.11.4"
  }
 },
 "nbformat": 4,
 "nbformat_minor": 5
}
