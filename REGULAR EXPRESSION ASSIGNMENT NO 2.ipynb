{
 "cells": [
  {
   "cell_type": "code",
   "execution_count": 1,
   "id": "babcb623",
   "metadata": {},
   "outputs": [],
   "source": [
    "import pandas as pd\n",
    "import re"
   ]
  },
  {
   "cell_type": "markdown",
   "id": "57c01da9",
   "metadata": {},
   "source": [
    "### Question 1- Write a Python program to replace all occurrences of a space, comma, or dot with a colon.\n",
    "### Sample Text- 'Python Exercises, PHP exercises.'\n",
    "### Expected Output: Python:Exercises::PHP:exercises:"
   ]
  },
  {
   "cell_type": "code",
   "execution_count": 2,
   "id": "257dfba2",
   "metadata": {},
   "outputs": [
    {
     "name": "stdout",
     "output_type": "stream",
     "text": [
      "Python:Exercises::PHP:exercises:\n"
     ]
    }
   ],
   "source": [
    "sample_test = 'Python Exercises, PHP exercises.'\n",
    "\n",
    "replace_test = sample_test.replace(\",\",\":\").replace(\" \", \":\").replace(\".\", \":\")\n",
    "\n",
    "print(replace_test)"
   ]
  },
  {
   "cell_type": "code",
   "execution_count": 3,
   "id": "ac93fb77",
   "metadata": {},
   "outputs": [
    {
     "name": "stdout",
     "output_type": "stream",
     "text": [
      "Python:Exercises::PHP:exercises:\n"
     ]
    }
   ],
   "source": [
    "test = 'Python Exercises, PHP exercises.'\n",
    "\n",
    "pattern = re.compile(r\"[ ,.\\s]\")\n",
    "\n",
    "re_test = pattern.sub(\":\", test)\n",
    "\n",
    "print(re_test)"
   ]
  },
  {
   "cell_type": "markdown",
   "id": "4705a73f",
   "metadata": {},
   "source": [
    "### Question 2-  Create a dataframe using the dictionary below and remove everything (commas (,), !, XXXX, ;, etc.) from the columns except words.\n",
    "Dictionary- {'SUMMARY' : ['hello, world!', 'XXXXX test', '123four, five:; six...']}\n",
    "\n",
    "Expected output-\n",
    "\n",
    "0      hello world\n",
    "\n",
    "1             test\n",
    "\n",
    "2    four five six\n"
   ]
  },
  {
   "cell_type": "code",
   "execution_count": 4,
   "id": "09298c2f",
   "metadata": {},
   "outputs": [
    {
     "name": "stdout",
     "output_type": "stream",
     "text": [
      "         SUMMARY\n",
      "0    hello world\n",
      "1           test\n",
      "2  four five six\n"
     ]
    },
    {
     "name": "stderr",
     "output_type": "stream",
     "text": [
      "C:\\Users\\HP\\AppData\\Local\\Temp\\ipykernel_11068\\3726370212.py:5: FutureWarning: The default value of regex will change from True to False in a future version.\n",
      "  df['SUMMARY'] = df['SUMMARY'].str.replace('[^a-z\\s]',\"\")\n"
     ]
    }
   ],
   "source": [
    "data ={'SUMMARY' : ['hello, world!', 'XXXXX test', '123four, five:; six...']}\n",
    "\n",
    "df = pd.DataFrame(data)\n",
    "\n",
    "df['SUMMARY'] = df['SUMMARY'].str.replace('[^a-z\\s]',\"\")\n",
    "\n",
    "print(df)\n",
    "\n",
    "## or \n",
    "\n",
    "## df['SUMMARY'] = df['SUMMARY'].str.replace('[^a-z\\s]',\"\", regex = True)\n",
    "\n",
    "## print(df)"
   ]
  },
  {
   "cell_type": "markdown",
   "id": "649182d6",
   "metadata": {},
   "source": [
    "##### In pandas, regex=True has a few meanings:\n",
    "##### If value is not None and to_replace is a string, the replacement will be applied in all columns of the DataFrame.\n",
    "##### If value is not None and to_replace is a dictionary, the dictionary keys will be the DataFrame columns that the replacement will be applied.\n",
    "##### If regex=True, then all of the strings in both lists will be interpreted as regexs otherwise they will match directly. "
   ]
  },
  {
   "cell_type": "markdown",
   "id": "a0aef25d",
   "metadata": {},
   "source": [
    "### Question 3- Create a function in python to find all words that are at least 4 characters long in a string. The use of the re.compile() method is mandatory."
   ]
  },
  {
   "cell_type": "code",
   "execution_count": 5,
   "id": "dc7f2574",
   "metadata": {},
   "outputs": [
    {
     "name": "stdout",
     "output_type": "stream",
     "text": [
      "['Abdul', 'Kalam', 'Indian', 'aerospace', 'scientist', 'also', 'known', 'Missile', 'India']\n"
     ]
    }
   ],
   "source": [
    "import pandas as pd\n",
    "import re\n",
    "\n",
    "\n",
    "test = \"APJ Abdul Kalam was an Indian aerospace scientist also known as the Missile Man of India\"\n",
    "\n",
    "pattern = re.compile(r'\\b\\w{4,}\\b')\n",
    "\n",
    "result = pattern.findall(test)\n",
    "\n",
    "print(result)"
   ]
  },
  {
   "cell_type": "markdown",
   "id": "e05f2615",
   "metadata": {},
   "source": [
    "### Question 4- Create a function in python to find all three, four, and five character words in a string. The use of the re.compile() method is mandatory."
   ]
  },
  {
   "cell_type": "code",
   "execution_count": 6,
   "id": "e02a1428",
   "metadata": {},
   "outputs": [
    {
     "name": "stdout",
     "output_type": "stream",
     "text": [
      "['APJ', 'Abdul', 'Kalam', 'was', 'also', 'known', 'the', 'Man', 'India']\n"
     ]
    }
   ],
   "source": [
    "import pandas as pd\n",
    "import re\n",
    "\n",
    "\n",
    "test = \"APJ Abdul Kalam was an Indian aerospace scientist also known as the Missile Man of India\"\n",
    "\n",
    "pattern = re.compile(r'\\b\\w{3,5}\\b')\n",
    "\n",
    "result = pattern.findall(test)\n",
    "\n",
    "print(result)"
   ]
  },
  {
   "cell_type": "markdown",
   "id": "78c87a7c",
   "metadata": {},
   "source": [
    "### Question 5- Create a function in Python to remove the parenthesis in a list of strings. The use of the re.compile() method is mandatory.\n",
    "### Sample Text: [\"example (.com)\", \"hr@fliprobo (.com)\", \"github (.com)\", \"Hello (Data Science World)\", \"Data (Scientist)\"]\n",
    "### Expected Output:\n",
    "example.com\n",
    "\n",
    "hr@fliprobo.com\n",
    "\n",
    "github.com\n",
    "\n",
    "Hello Data Science World\n",
    "\n",
    "Data Scientist"
   ]
  },
  {
   "cell_type": "code",
   "execution_count": 2,
   "id": "133728db",
   "metadata": {},
   "outputs": [
    {
     "name": "stdout",
     "output_type": "stream",
     "text": [
      "['example .com', 'hr@fliprobo .com', 'github .com', 'Hello Data Science World', 'Data Scientist']\n"
     ]
    }
   ],
   "source": [
    "import re\n",
    "sample_text = [\"example (.com)\", \"hr@fliprobo (.com)\", \"github (.com)\", \"Hello (Data Science World)\", \"Data (Scientist)\"]\n",
    "\n",
    "def remove_parentheses(strings):\n",
    "    pattern = re.compile(r\"[()]\")\n",
    "    new_strings = []\n",
    "    for string in strings:\n",
    "        new_string = re.sub(pattern, \"\", string)\n",
    "        new_strings.append(new_string)\n",
    "    return new_strings\n",
    "\n",
    "\n",
    "result = remove_parentheses(sample_text)\n",
    "print(result)"
   ]
  },
  {
   "cell_type": "markdown",
   "id": "c7e6564c",
   "metadata": {},
   "source": [
    "### Question 6- Write a python program to remove the parenthesis area from the text stored in the text file using Regular Expression.\n",
    "\n",
    "Sample Text: [\"example (.com)\", \"hr@fliprobo (.com)\", \"github (.com)\", \"Hello (Data Science World)\", \"Data (Scientist)\"]\n",
    "\n",
    "Expected Output: [\"example\", \"hr@fliprobo\", \"github\", \"Hello\", \"Data\"]\n",
    "\n",
    "Note- Store given sample text in the text file and then to remove the parenthesis area from the text.\n"
   ]
  },
  {
   "cell_type": "code",
   "execution_count": null,
   "id": "3e79bec6",
   "metadata": {},
   "outputs": [],
   "source": []
  },
  {
   "cell_type": "markdown",
   "id": "29c1b8a9",
   "metadata": {},
   "source": [
    "### Question 7- Write a regular expression in Python to split a string into uppercase letters.\n",
    "Sample text: “ImportanceOfRegularExpressionsInPython”\n",
    "\n",
    "Expected Output: [‘Importance’, ‘Of’, ‘Regular’, ‘Expression’, ‘In’, ‘Python’]"
   ]
  },
  {
   "cell_type": "code",
   "execution_count": 29,
   "id": "9aebd3a4",
   "metadata": {},
   "outputs": [
    {
     "name": "stdout",
     "output_type": "stream",
     "text": [
      "['Importance', 'Of', 'Regular', 'Expressions', 'In', 'Python']\n"
     ]
    }
   ],
   "source": [
    "import re\n",
    "Sample_Text = \"ImportanceOfRegularExpressionsInPython\"\n",
    "print(re.findall('[A-Z][^A-Z]*', Sample_Text))"
   ]
  },
  {
   "cell_type": "markdown",
   "id": "7c97221e",
   "metadata": {},
   "source": [
    "### Question 8- Create a function in python to insert spaces between words starting with numbers.\n",
    "Sample Text: “RegularExpression1IsAn2ImportantTopic3InPython\"\n",
    "\n",
    "Expected Output: RegularExpression 1IsAn 2ImportantTopic 3InPython\n"
   ]
  },
  {
   "cell_type": "code",
   "execution_count": 51,
   "id": "ec794e95",
   "metadata": {},
   "outputs": [
    {
     "name": "stdout",
     "output_type": "stream",
     "text": [
      "RegularExpression 1IsAn 2ImportantTopic 3InPython\n"
     ]
    }
   ],
   "source": [
    "import re\n",
    "\n",
    "sample_text = \"RegularExpression1IsAn2ImportantTopic3InPython\"\n",
    "\n",
    "pattern = re.compile(r'(\\d+)([A-Z]+)')\n",
    "\n",
    "result = pattern.sub(r' \\1\\2',sample_text)\n",
    "\n",
    "print(result)"
   ]
  },
  {
   "cell_type": "markdown",
   "id": "364d735f",
   "metadata": {},
   "source": [
    "### Question 9- Create a function in python to insert spaces between words starting with capital letters or with numbers.\n",
    "Sample Text: “RegularExpression1IsAn2ImportantTopic3InPython\"\n",
    "\n",
    "Expected Output:  RegularExpression 1 IsAn 2 ImportantTopic 3 InPython\n"
   ]
  },
  {
   "cell_type": "code",
   "execution_count": 53,
   "id": "227ab004",
   "metadata": {},
   "outputs": [
    {
     "name": "stdout",
     "output_type": "stream",
     "text": [
      "RegularExpression 1 IsAn 2 ImportantTopic 3 InPython\n"
     ]
    }
   ],
   "source": [
    "import re\n",
    "\n",
    "sample_text = \"RegularExpression1IsAn2ImportantTopic3InPython\"\n",
    "\n",
    "pattern = re.compile(r'(\\d+)([A-Z]+)')\n",
    "\n",
    "result = pattern.sub(r' \\1 \\2',sample_text)\n",
    "\n",
    "print(result)"
   ]
  },
  {
   "cell_type": "markdown",
   "id": "413ae18f",
   "metadata": {},
   "source": [
    "### Question 10- Use the github link below to read the data and create a dataframe. After creating the dataframe extract the first 6 letters of each country and store in the dataframe under a new column called first_five_letters.\n",
    "Github Link-  https://raw.githubusercontent.com/dsrscientist/DSData/master/happiness_score_dataset.csv"
   ]
  },
  {
   "cell_type": "code",
   "execution_count": 68,
   "id": "690af7b5",
   "metadata": {},
   "outputs": [
    {
     "data": {
      "text/html": [
       "<div>\n",
       "<style scoped>\n",
       "    .dataframe tbody tr th:only-of-type {\n",
       "        vertical-align: middle;\n",
       "    }\n",
       "\n",
       "    .dataframe tbody tr th {\n",
       "        vertical-align: top;\n",
       "    }\n",
       "\n",
       "    .dataframe thead th {\n",
       "        text-align: right;\n",
       "    }\n",
       "</style>\n",
       "<table border=\"1\" class=\"dataframe\">\n",
       "  <thead>\n",
       "    <tr style=\"text-align: right;\">\n",
       "      <th></th>\n",
       "      <th>Country</th>\n",
       "      <th>Region</th>\n",
       "      <th>Happiness Rank</th>\n",
       "      <th>Happiness Score</th>\n",
       "      <th>Standard Error</th>\n",
       "      <th>Economy (GDP per Capita)</th>\n",
       "      <th>Family</th>\n",
       "      <th>Health (Life Expectancy)</th>\n",
       "      <th>Freedom</th>\n",
       "      <th>Trust (Government Corruption)</th>\n",
       "      <th>Generosity</th>\n",
       "      <th>Dystopia Residual</th>\n",
       "      <th>first_five_letters</th>\n",
       "    </tr>\n",
       "  </thead>\n",
       "  <tbody>\n",
       "    <tr>\n",
       "      <th>0</th>\n",
       "      <td>Switzerland</td>\n",
       "      <td>Western Europe</td>\n",
       "      <td>1</td>\n",
       "      <td>7.587</td>\n",
       "      <td>0.03411</td>\n",
       "      <td>1.39651</td>\n",
       "      <td>1.34951</td>\n",
       "      <td>0.94143</td>\n",
       "      <td>0.66557</td>\n",
       "      <td>0.41978</td>\n",
       "      <td>0.29678</td>\n",
       "      <td>2.51738</td>\n",
       "      <td>Switze</td>\n",
       "    </tr>\n",
       "    <tr>\n",
       "      <th>1</th>\n",
       "      <td>Iceland</td>\n",
       "      <td>Western Europe</td>\n",
       "      <td>2</td>\n",
       "      <td>7.561</td>\n",
       "      <td>0.04884</td>\n",
       "      <td>1.30232</td>\n",
       "      <td>1.40223</td>\n",
       "      <td>0.94784</td>\n",
       "      <td>0.62877</td>\n",
       "      <td>0.14145</td>\n",
       "      <td>0.43630</td>\n",
       "      <td>2.70201</td>\n",
       "      <td>Icelan</td>\n",
       "    </tr>\n",
       "    <tr>\n",
       "      <th>2</th>\n",
       "      <td>Denmark</td>\n",
       "      <td>Western Europe</td>\n",
       "      <td>3</td>\n",
       "      <td>7.527</td>\n",
       "      <td>0.03328</td>\n",
       "      <td>1.32548</td>\n",
       "      <td>1.36058</td>\n",
       "      <td>0.87464</td>\n",
       "      <td>0.64938</td>\n",
       "      <td>0.48357</td>\n",
       "      <td>0.34139</td>\n",
       "      <td>2.49204</td>\n",
       "      <td>Denmar</td>\n",
       "    </tr>\n",
       "    <tr>\n",
       "      <th>3</th>\n",
       "      <td>Norway</td>\n",
       "      <td>Western Europe</td>\n",
       "      <td>4</td>\n",
       "      <td>7.522</td>\n",
       "      <td>0.03880</td>\n",
       "      <td>1.45900</td>\n",
       "      <td>1.33095</td>\n",
       "      <td>0.88521</td>\n",
       "      <td>0.66973</td>\n",
       "      <td>0.36503</td>\n",
       "      <td>0.34699</td>\n",
       "      <td>2.46531</td>\n",
       "      <td>Norway</td>\n",
       "    </tr>\n",
       "    <tr>\n",
       "      <th>4</th>\n",
       "      <td>Canada</td>\n",
       "      <td>North America</td>\n",
       "      <td>5</td>\n",
       "      <td>7.427</td>\n",
       "      <td>0.03553</td>\n",
       "      <td>1.32629</td>\n",
       "      <td>1.32261</td>\n",
       "      <td>0.90563</td>\n",
       "      <td>0.63297</td>\n",
       "      <td>0.32957</td>\n",
       "      <td>0.45811</td>\n",
       "      <td>2.45176</td>\n",
       "      <td>Canada</td>\n",
       "    </tr>\n",
       "  </tbody>\n",
       "</table>\n",
       "</div>"
      ],
      "text/plain": [
       "       Country          Region  Happiness Rank  Happiness Score  \\\n",
       "0  Switzerland  Western Europe               1            7.587   \n",
       "1      Iceland  Western Europe               2            7.561   \n",
       "2      Denmark  Western Europe               3            7.527   \n",
       "3       Norway  Western Europe               4            7.522   \n",
       "4       Canada   North America               5            7.427   \n",
       "\n",
       "   Standard Error  Economy (GDP per Capita)   Family  \\\n",
       "0         0.03411                   1.39651  1.34951   \n",
       "1         0.04884                   1.30232  1.40223   \n",
       "2         0.03328                   1.32548  1.36058   \n",
       "3         0.03880                   1.45900  1.33095   \n",
       "4         0.03553                   1.32629  1.32261   \n",
       "\n",
       "   Health (Life Expectancy)  Freedom  Trust (Government Corruption)  \\\n",
       "0                   0.94143  0.66557                        0.41978   \n",
       "1                   0.94784  0.62877                        0.14145   \n",
       "2                   0.87464  0.64938                        0.48357   \n",
       "3                   0.88521  0.66973                        0.36503   \n",
       "4                   0.90563  0.63297                        0.32957   \n",
       "\n",
       "   Generosity  Dystopia Residual first_five_letters  \n",
       "0     0.29678            2.51738             Switze  \n",
       "1     0.43630            2.70201             Icelan  \n",
       "2     0.34139            2.49204             Denmar  \n",
       "3     0.34699            2.46531             Norway  \n",
       "4     0.45811            2.45176             Canada  "
      ]
     },
     "execution_count": 68,
     "metadata": {},
     "output_type": "execute_result"
    }
   ],
   "source": [
    "import pandas as pd\n",
    "import re\n",
    "\n",
    "\n",
    "df = pd.read_csv('https://raw.githubusercontent.com/dsrscientist/DSData/master/happiness_score_dataset.csv')\n",
    "\n",
    "\n",
    "\n",
    "df['first_five_letters'] = df['Country'].apply(lambda x: x[ :6])\n",
    "\n",
    "\n",
    "df.head()"
   ]
  },
  {
   "cell_type": "markdown",
   "id": "30764a8d",
   "metadata": {},
   "source": [
    "### Question 11- Write a Python program to match a string that contains only upper and lowercase letters, numbers, and underscores."
   ]
  },
  {
   "cell_type": "code",
   "execution_count": 72,
   "id": "b69505b8",
   "metadata": {},
   "outputs": [
    {
     "name": "stdout",
     "output_type": "stream",
     "text": [
      "hello_world  1234567890  ABCDEFGHIJKLMNOPQRSTUVWXYZ_  abcdefghijklmnopqrstuvwxyz_\n"
     ]
    }
   ],
   "source": [
    "import pandas as pd\n",
    "import re\n",
    "\n",
    "str = \"hello_world, 1234567890, ABCDEFGHIJKLMNOPQRSTUVWXYZ_, abcdefghijklmnopqrstuvwxyz_\"\n",
    "\n",
    "pattern = re.compile(r'\\W')\n",
    "                     \n",
    "result = pattern.sub(r\" \", str)\n",
    "                     \n",
    "print(result)"
   ]
  },
  {
   "cell_type": "markdown",
   "id": "7c0f8e2b",
   "metadata": {},
   "source": [
    "### Question 12- Write a Python program where a string will start with a specific number. "
   ]
  },
  {
   "cell_type": "code",
   "execution_count": 12,
   "id": "3f221cd4",
   "metadata": {},
   "outputs": [
    {
     "name": "stdout",
     "output_type": "stream",
     "text": [
      "string not start with number\n"
     ]
    }
   ],
   "source": [
    "import pandas as pd\n",
    "import re\n",
    "\n",
    "string = \"hello_world 1234567890 ABCDEFGHIJKLMNOPQRSTUVWXYZ abcdefghijklmnopqrstuvwxyz\"\n",
    "\n",
    "def string_starting_number(string, number):\n",
    "    if string.startswith(str(number)):\n",
    "        return True\n",
    "    else:\n",
    "        return False\n",
    "    \n",
    "if string_starting_number(string, number):\n",
    "    print(\"string start with a specific number\")\n",
    "    \n",
    "else :\n",
    "    print(\"string not start with number\")"
   ]
  },
  {
   "cell_type": "markdown",
   "id": "159cd8ca",
   "metadata": {},
   "source": [
    "### Question 13- Write a Python program to remove leading zeros from an IP address"
   ]
  },
  {
   "cell_type": "code",
   "execution_count": 1,
   "id": "f71e4b87",
   "metadata": {},
   "outputs": [
    {
     "name": "stdout",
     "output_type": "stream",
     "text": [
      "192.168.2.100\n"
     ]
    }
   ],
   "source": [
    "import pandas as pd\n",
    "import re\n",
    "\n",
    "ip = '192.168.002.100'\n",
    "\n",
    "pattern = '\\.[0]*'\n",
    "\n",
    "result = re.sub(pattern, \".\", ip)\n",
    "\n",
    "print(result)\n"
   ]
  },
  {
   "cell_type": "markdown",
   "id": "0032c8c4",
   "metadata": {},
   "source": [
    "### Question 14- Write a regular expression in python to match a date string in the form of Month name followed by day number and year stored in a text file."
   ]
  },
  {
   "cell_type": "code",
   "execution_count": 26,
   "id": "187091e8",
   "metadata": {},
   "outputs": [
    {
     "name": "stdout",
     "output_type": "stream",
     "text": [
      "['January 26th 2024']\n"
     ]
    }
   ],
   "source": [
    "test =  \"India celebrated its 75th Republic Day on January 26th 2024. The day is a celebration of the Constitution, and building India as a republic instead of a colony or dominion of any nation.\"\n",
    "\n",
    "pattern = r\"(\\b[A-Z][a-z]+ \\d{1,2}th \\d{4}\\b)\" \n",
    "                     \n",
    "result = re.findall(pattern, test)\n",
    "           \n",
    "print(result)"
   ]
  },
  {
   "cell_type": "markdown",
   "id": "ba285943",
   "metadata": {},
   "source": [
    "### Question 14- Write a regular expression in python to match a date string in the form of Month name followed by day number and year stored in a text file.\n",
    "Sample text :  ' On August 15th 1947 that India was declared independent from British colonialism, and the reins of control were handed over to the leaders of the Country’.\n",
    "\n",
    "Expected Output- August 15th 1947\n",
    "\n",
    "Note- Store given sample text in the text file and then extract the date string asked format.\n"
   ]
  },
  {
   "cell_type": "code",
   "execution_count": 36,
   "id": "465ab287",
   "metadata": {},
   "outputs": [
    {
     "name": "stdout",
     "output_type": "stream",
     "text": [
      "['August 15th 1947']\n"
     ]
    }
   ],
   "source": [
    "text = \"On August 15th 1947 that India was declared independent from British colonialism, and the reins of control were handed over to the leaders of the Country.\"\n",
    "\n",
    "pattern = r\"(\\b[A-Z][a-z]+ \\d{1,2}th \\d{4}\\b)\"\n",
    "\n",
    "result = re.findall(pattern, text)\n",
    "\n",
    "print(result)"
   ]
  },
  {
   "cell_type": "markdown",
   "id": "1ff58145",
   "metadata": {},
   "source": [
    "### Question 15- Write a Python program to search some literals strings in a string. \n",
    "Sample text : 'The quick brown fox jumps over the lazy dog.'\n",
    "\n",
    "Searched words : 'fox', 'dog', 'horse'\n"
   ]
  },
  {
   "cell_type": "code",
   "execution_count": 53,
   "id": "ecd8fe43",
   "metadata": {},
   "outputs": [
    {
     "name": "stdout",
     "output_type": "stream",
     "text": [
      " \n",
      "\"fox\"  in \"The quick brown fox jumps over the lazy dog.\" = \n",
      "available\n",
      " \n",
      "\"dog\"  in \"The quick brown fox jumps over the lazy dog.\" = \n",
      "available\n",
      " \n",
      "\"horse\"  in \"The quick brown fox jumps over the lazy dog.\" = \n",
      "not available\n"
     ]
    }
   ],
   "source": [
    "import re\n",
    "\n",
    "patterns = [ 'fox', 'dog', 'horse' ]\n",
    "\n",
    "text = 'The quick brown fox jumps over the lazy dog.'\n",
    "\n",
    "for match in patterns:             \n",
    "    \n",
    "    print(' \\n\"%s\"  in \"%s\" = ' % (match, text))\n",
    "    \n",
    "    if re.search(match,  text):\n",
    "        \n",
    "        print('available')\n",
    "        \n",
    "    else:\n",
    "        \n",
    "        print('not available')"
   ]
  },
  {
   "cell_type": "markdown",
   "id": "a09c0c0c",
   "metadata": {},
   "source": [
    "### Question 16- Write a Python program to search a literals string in a string and also find the location within the original string where the pattern occurs\n",
    "Sample text : 'The quick brown fox jumps over the lazy dog.'\n",
    "\n",
    "Searched words : 'fox'"
   ]
  },
  {
   "cell_type": "code",
   "execution_count": 60,
   "id": "38a8668e",
   "metadata": {},
   "outputs": [
    {
     "name": "stdout",
     "output_type": "stream",
     "text": [
      "\"fox\" in \"The quick brown fox jumps over the lazy dog.\" from 16 to 19 \n"
     ]
    }
   ],
   "source": [
    "import re\n",
    "\n",
    "\n",
    "pattern = 'fox'\n",
    "\n",
    "\n",
    "text = 'The quick brown fox jumps over the lazy dog.'\n",
    "\n",
    "\n",
    "match = re.search(pattern, text)\n",
    "\n",
    "\n",
    "a = match.start()\n",
    "\n",
    "\n",
    "b = match.end()\n",
    "\n",
    "\n",
    "print('\"%s\" in \"%s\" from %d to %d ' % \\\n",
    " \n",
    "      \n",
    "    (match.re.pattern, match.string, a, b))\n",
    "\n"
   ]
  },
  {
   "cell_type": "markdown",
   "id": "ffca050a",
   "metadata": {},
   "source": [
    "### Question 17- Write a Python program to find the substrings within a string.\n",
    "Sample text : 'Python exercises, PHP exercises, C# exercises'\n",
    "\n",
    "Pattern : 'exercises'.\n"
   ]
  },
  {
   "cell_type": "code",
   "execution_count": 62,
   "id": "128c9161",
   "metadata": {},
   "outputs": [
    {
     "name": "stdout",
     "output_type": "stream",
     "text": [
      "Available \"exercises\"\n",
      "Available \"exercises\"\n",
      "Available \"exercises\"\n"
     ]
    }
   ],
   "source": [
    "import re\n",
    "import pandas as pd\n",
    "\n",
    "text = 'Python exercises, PHP exercises, C# exercises'\n",
    "\n",
    "pattern = 'exercises'\n",
    "\n",
    "for match in re.findall(pattern, text):\n",
    "   \n",
    "   print('Available \"%s\"' % match)"
   ]
  },
  {
   "cell_type": "markdown",
   "id": "ea22e1e2",
   "metadata": {},
   "source": [
    "### Question 18- Write a Python program to find the occurrence and position of the substrings within a string."
   ]
  },
  {
   "cell_type": "code",
   "execution_count": 73,
   "id": "44cbf11e",
   "metadata": {},
   "outputs": [
    {
     "name": "stdout",
     "output_type": "stream",
     "text": [
      "Available \"exercises\" at 7:16\n",
      "Available \"exercises\" at 22:31\n",
      "Available \"exercises\" at 36:45\n"
     ]
    }
   ],
   "source": [
    "import re\n",
    "\n",
    "text = 'Python exercises, PHP exercises, C# exercises'\n",
    "\n",
    "pattern = 'exercises'\n",
    "\n",
    "for match in re.finditer(pattern, text):\n",
    "    \n",
    "    a = match.start()\n",
    "    \n",
    "    b = match.end()\n",
    "    \n",
    "    print('Available \"%s\" at %d:%d' % (text[a:b], a, b))"
   ]
  },
  {
   "cell_type": "markdown",
   "id": "2f305579",
   "metadata": {},
   "source": [
    "### Question 19- Write a Python program to convert a date of yyyy-mm-dd format to dd-mm-yyyy format."
   ]
  },
  {
   "cell_type": "code",
   "execution_count": 79,
   "id": "d58b38b3",
   "metadata": {},
   "outputs": [
    {
     "name": "stdout",
     "output_type": "stream",
     "text": [
      "2026-01-02\n",
      "02-01-2026\n"
     ]
    }
   ],
   "source": [
    "import re\n",
    "\n",
    "def change_format(func):\n",
    "    \n",
    "        return re.sub(r'(\\d{4})-(\\d{1,2})-(\\d{1,2})', '\\\\3-\\\\2-\\\\1', func)\n",
    "    \n",
    "func1 = \"2026-01-02\"\n",
    "\n",
    "print(func1)\n",
    "\n",
    "print(change_format(func1))"
   ]
  },
  {
   "cell_type": "markdown",
   "id": "a4918042",
   "metadata": {},
   "source": [
    "### Question 20- Create a function in python to find all decimal numbers with a precision of 1 or 2 in a string. The use of the re.compile() method is mandatory.\n",
    "Sample Text: \"01.12 0132.123 2.31875 145.8 3.01 27.25 0.25\"\n",
    "\n",
    "Expected Output: ['01.12', '145.8', '3.01', '27.25', '0.25']"
   ]
  },
  {
   "cell_type": "code",
   "execution_count": 24,
   "id": "11bc1493",
   "metadata": {},
   "outputs": [
    {
     "name": "stdout",
     "output_type": "stream",
     "text": [
      "['01.12', '0132.12', '2.31', '145.8', '3.01', '27.25', '0.25']\n"
     ]
    }
   ],
   "source": [
    "import re\n",
    "\n",
    "text = \"01.12 0132.123 2.31875 145.8 3.01 27.25 0.25\"\n",
    "\n",
    "def decimal(string):\n",
    "    \n",
    "    pattern = re.compile(r'\\d+\\.\\d{1,2}')\n",
    "    \n",
    "    decimal_number = re.findall(pattern, string)\n",
    "    \n",
    "    return decimal_number\n",
    "\n",
    "\n",
    "output = decimal(text)\n",
    "\n",
    "print(output)"
   ]
  },
  {
   "cell_type": "markdown",
   "id": "1220cc2b",
   "metadata": {},
   "source": [
    "### Question 21- Write a Python program to separate and print the numbers and their position of a given string."
   ]
  },
  {
   "cell_type": "code",
   "execution_count": 1,
   "id": "5548bde0",
   "metadata": {},
   "outputs": [
    {
     "name": "stdout",
     "output_type": "stream",
     "text": [
      "1950\n",
      "position =  40\n"
     ]
    }
   ],
   "source": [
    "import re\n",
    "\n",
    "text = \"India has been a federal republic since 1950, governed through a democratic parlimentary system.\"\n",
    "\n",
    "for i in re.finditer(\"\\d+\", text):\n",
    "    \n",
    "    print(i.group())\n",
    "    \n",
    "    print(\"position = \", i.start())"
   ]
  },
  {
   "cell_type": "markdown",
   "id": "8b17a37c",
   "metadata": {},
   "source": [
    "### Question 22- Write a regular expression in python program to extract maximum/largest numeric value from a string.\n",
    "Sample Text:  'My marks in each semester are: 947, 896, 926, 524, 734, 950, 642'\n",
    "\n",
    "Expected Output: 950"
   ]
  },
  {
   "cell_type": "code",
   "execution_count": 10,
   "id": "73ebb379",
   "metadata": {},
   "outputs": [
    {
     "name": "stdout",
     "output_type": "stream",
     "text": [
      "950\n"
     ]
    }
   ],
   "source": [
    "import re\n",
    "\n",
    "text = 'My marks in each semester are: 947, 896, 926, 524, 734, 950, 642'\n",
    "\n",
    "values = re.findall(r'\\d+', text)\n",
    "\n",
    "\n",
    "max_value = max(values)\n",
    "\n",
    "print(max_value)"
   ]
  },
  {
   "cell_type": "markdown",
   "id": "5af8a342",
   "metadata": {},
   "source": [
    "### Question 23- Create a function in python to insert spaces between words starting with capital letters.\n",
    "Sample Text: “RegularExpressionIsAnImportantTopicInPython\"\n",
    "\n",
    "Expected Output: Regular Expression Is An Important Topic In Python"
   ]
  },
  {
   "cell_type": "code",
   "execution_count": 17,
   "id": "06e04e56",
   "metadata": {},
   "outputs": [
    {
     "name": "stdout",
     "output_type": "stream",
     "text": [
      "Regular Expression Is An Important Topic In Python\n"
     ]
    }
   ],
   "source": [
    "import re\n",
    "import pandas as pd\n",
    "\n",
    "text = \"RegularExpressionIsAnImportantTopicInPython\"\n",
    "\n",
    "result = re.findall(\"[A-Z][a-z]*\", text)\n",
    "\n",
    "print(' '.join((result)))"
   ]
  },
  {
   "cell_type": "markdown",
   "id": "d35b3d9b",
   "metadata": {},
   "source": [
    "### Question 24- Python regex to find sequences of one upper case letter followed by lower case letters"
   ]
  },
  {
   "cell_type": "code",
   "execution_count": 24,
   "id": "41a31673",
   "metadata": {},
   "outputs": [
    {
     "name": "stdout",
     "output_type": "stream",
     "text": [
      "['India', 'Federal', 'Governed', 'Democratic', 'System']\n"
     ]
    }
   ],
   "source": [
    "import re\n",
    "import pandas as pd\n",
    "\n",
    "text = \"India has been a Federal republic since 1950, Governed through a Democratic parlimentary System.\"\n",
    "\n",
    "pattern = r'[A-Z][a-z]+'\n",
    "\n",
    "result = re.findall(pattern, text)\n",
    "\n",
    "print(result)"
   ]
  },
  {
   "cell_type": "markdown",
   "id": "ffea2167",
   "metadata": {},
   "source": [
    "### Question 25- Write a Python program to remove continuous duplicate words from Sentence using Regular Expression.\n",
    "Sample Text: \"Hello hello world world\"\n",
    "\n",
    "Expected Output: Hello hello world"
   ]
  },
  {
   "cell_type": "code",
   "execution_count": 37,
   "id": "e91d33dc",
   "metadata": {},
   "outputs": [
    {
     "name": "stdout",
     "output_type": "stream",
     "text": [
      "Hello hello world\n"
     ]
    }
   ],
   "source": [
    "import re\n",
    "import pandas as pd\n",
    "\n",
    "text = 'Hello hello world world'\n",
    "\n",
    "def remove_duplicated(text):\n",
    "    pattern = r\"\\b(\\w+)(?:\\W\\1\\b)+\"\n",
    "    \n",
    "    return re.sub(pattern, r\"\\1\", text)\n",
    "\n",
    "print(remove_duplicated(text))"
   ]
  },
  {
   "cell_type": "markdown",
   "id": "cd87116b",
   "metadata": {},
   "source": [
    "### Question 26-  Write a python program using RegEx to accept string ending with alphanumeric character."
   ]
  },
  {
   "cell_type": "code",
   "execution_count": 5,
   "id": "6ff3fec7",
   "metadata": {},
   "outputs": [
    {
     "name": "stdout",
     "output_type": "stream",
     "text": [
      "Prasad123\n",
      "The string ends with alphanumeric character\n",
      "Prasad@\n",
      "The string doesnot end with alphanumeric character\n"
     ]
    }
   ],
   "source": [
    "import re\n",
    "\n",
    "pattern = '[a-zA-Z0-9]$'\n",
    "\n",
    "def check_alphanumeric(string):\n",
    "    if (re.search(pattern, string)):\n",
    "        print(\"The string ends with alphanumeric character\")\n",
    "    else:\n",
    "        print(\"The string doesnot end with alphanumeric character\")\n",
    "\n",
    "        \n",
    "\n",
    "string1 = \"Prasad123\"\n",
    "print(string1)\n",
    "check_alphanumeric(string1)\n",
    "\n",
    "\n",
    "\n",
    "string2 = \"Prasad@\"\n",
    "print(string2)\n",
    "check_alphanumeric(string2)"
   ]
  },
  {
   "cell_type": "markdown",
   "id": "fdb69eda",
   "metadata": {},
   "source": [
    "### Question 27-Write a python program using RegEx to extract the hashtags.\n",
    "Sample Text:  \"\"\"RT @kapil_kausik: #Doltiwal I mean #xyzabc is \"hurt\" by #Demonetization as the same has rendered USELESS <ed><U+00A0><U+00BD><ed><U+00B1><U+0089> \"acquired funds\" No wo\"\"\"\n",
    "\n",
    "Expected Output: ['#Doltiwal', '#xyzabc', '#Demonetization']"
   ]
  },
  {
   "cell_type": "code",
   "execution_count": 9,
   "id": "c39fe96b",
   "metadata": {},
   "outputs": [
    {
     "name": "stdout",
     "output_type": "stream",
     "text": [
      "['#Doltiwal', '#xyzabc', '#Demonetization']\n"
     ]
    }
   ],
   "source": [
    "import re\n",
    "\n",
    "text = \"\"\"RT @kapil_kausik: #Doltiwal I mean #xyzabc is \"hurt\" by #Demonetization as the same has rendered USELESS <U+00A0><U+00BD><U+00B1><U+0089> \"acquired funds\" No wo\"\"\"\n",
    "\n",
    "def extract_hashtags(text):\n",
    "    hashtag = re.findall(r'#\\w+', text)\n",
    "    return hashtag\n",
    "\n",
    "hashtag = extract_hashtags(text)\n",
    "print(hashtag)"
   ]
  },
  {
   "cell_type": "markdown",
   "id": "041058ba",
   "metadata": {},
   "source": [
    "### Question 28- Write a python program using RegEx to remove <U+..> like symbolsCheck the below sample text, there are strange symbols something of the sort <U+..> all over the place. You need to come up with a general Regex expression that will cover all such symbols.\n",
    "Sample Text: \"@Jags123456 Bharat band on 28??<ed><U+00A0><U+00BD><ed><U+00B8><U+0082>Those who  are protesting #demonetization  are all different party leaders\"\n",
    "\n",
    "Expected Output: @Jags123456 Bharat band on 28??<ed><ed>Those who  are protesting #demonetization  are all different party leaders\n"
   ]
  },
  {
   "cell_type": "code",
   "execution_count": 13,
   "id": "bcfb1c48",
   "metadata": {},
   "outputs": [
    {
     "name": "stdout",
     "output_type": "stream",
     "text": [
      "@Jags123456 Bharat band on 28??Those who are protesting #demonetization are all different party leaders\n"
     ]
    }
   ],
   "source": [
    "import re\n",
    "\n",
    "text = \"@Jags123456 Bharat band on 28??<U+00A0><U+00BD><U+00B8><U+0082>Those who are protesting #demonetization are all different party leaders\"\n",
    "\n",
    "pattern = r\"<U\\+\\w+>\"\n",
    "\n",
    "result = re.sub(pattern, \"\", text)\n",
    "\n",
    "print(result)"
   ]
  },
  {
   "cell_type": "markdown",
   "id": "ad748db4",
   "metadata": {},
   "source": [
    "### Question 29- Write a python program to extract dates from the text stored in the text file.\n",
    "Sample Text: Ron was born on 12-09-1992 and he was admitted to school 15-12-1999.\n",
    "\n",
    "Note- Store this sample text in the file and then extract dates."
   ]
  },
  {
   "cell_type": "code",
   "execution_count": 21,
   "id": "d901db58",
   "metadata": {},
   "outputs": [
    {
     "name": "stdout",
     "output_type": "stream",
     "text": [
      "['12-09-1992', '15-12-1999']\n"
     ]
    }
   ],
   "source": [
    "import re\n",
    "\n",
    "text = 'Ron was born on 12-09-1992 and he was admitted to school 15-12-1999'\n",
    "\n",
    "pattern = r'\\d{2}\\-\\d{2}\\-\\d{4}'\n",
    "\n",
    "\n",
    "dates = re.findall(pattern, text)\n",
    "\n",
    "print(dates)"
   ]
  },
  {
   "cell_type": "markdown",
   "id": "e8947ee2",
   "metadata": {},
   "source": [
    "### Question 30- Create a function in python to remove all words from a string of length between 2 and 4. The use of the re.compile() method is mandatory.\n",
    "Sample Text: \"The following example creates an ArrayList with a capacity of 50 elements. 4 elements are then added to the ArrayList and the ArrayList is trimmed accordingly.\"\n",
    "\n",
    "Expected Output:  following example creates ArrayList a capacity elements. 4 elements added ArrayList ArrayList trimmed accordingly."
   ]
  },
  {
   "cell_type": "code",
   "execution_count": 47,
   "id": "57c7342b",
   "metadata": {},
   "outputs": [
    {
     "name": "stdout",
     "output_type": "stream",
     "text": [
      "following example creates ArrayList a capacity elements. 4 elements added ArrayList ArrayList trimmed accordingly.\n"
     ]
    }
   ],
   "source": [
    "import re\n",
    "import pandas as pd\n",
    "\n",
    "text = \"The following example creates an ArrayList with a capacity of 50 elements. 4 elements are then added to the ArrayList and the ArrayList is trimmed accordingly.\"\n",
    "\n",
    "\n",
    "def words(string):\n",
    "    \n",
    "    pattern = re.compile(r'(\\b[A-Za-z0-9]{2,4}\\b)\\s')\n",
    "    \n",
    "    new_string = re.sub(pattern, \"\", string)\n",
    "    \n",
    "    return new_string\n",
    "\n",
    "result = words(text)\n",
    "\n",
    "print(result)"
   ]
  },
  {
   "cell_type": "code",
   "execution_count": 48,
   "id": "09210440",
   "metadata": {},
   "outputs": [
    {
     "name": "stdout",
     "output_type": "stream",
     "text": [
      "following example creates ArrayList a capacity elements. 4 elements added ArrayList ArrayList trimmed accordingly.\n"
     ]
    }
   ],
   "source": [
    "import re\n",
    "\n",
    "text = \"The following example creates an ArrayList with a capacity of 50 elements. 4 elements are then added to the ArrayList and the ArrayList is trimmed accordingly.\"\n",
    "\n",
    "pattern = re.compile(r'(\\b[A-Za-z0-9]{2,4}\\b)\\s')\n",
    "\n",
    "result = re.sub(pattern, \"\", text)\n",
    "\n",
    "print(result)"
   ]
  }
 ],
 "metadata": {
  "kernelspec": {
   "display_name": "Python 3 (ipykernel)",
   "language": "python",
   "name": "python3"
  },
  "language_info": {
   "codemirror_mode": {
    "name": "ipython",
    "version": 3
   },
   "file_extension": ".py",
   "mimetype": "text/x-python",
   "name": "python",
   "nbconvert_exporter": "python",
   "pygments_lexer": "ipython3",
   "version": "3.11.4"
  }
 },
 "nbformat": 4,
 "nbformat_minor": 5
}
