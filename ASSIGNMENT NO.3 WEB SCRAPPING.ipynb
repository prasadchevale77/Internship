{
 "cells": [
  {
   "cell_type": "markdown",
   "id": "551da01e",
   "metadata": {},
   "source": [
    "### Q.1 Write a python program which searches all the product under a particular product from www.amazon.in. The product to be searched will be taken as input from user. For e.g. If user input is ‘guitar’. Then search for guitars."
   ]
  },
  {
   "cell_type": "code",
   "execution_count": 1,
   "id": "a61901bc",
   "metadata": {},
   "outputs": [
    {
     "name": "stdout",
     "output_type": "stream",
     "text": [
      "Requirement already satisfied: selenium in c:\\users\\hp\\anaconda3\\lib\\site-packages (4.19.0)\n",
      "Requirement already satisfied: urllib3[socks]<3,>=1.26 in c:\\users\\hp\\anaconda3\\lib\\site-packages (from selenium) (1.26.16)\n",
      "Requirement already satisfied: trio~=0.17 in c:\\users\\hp\\anaconda3\\lib\\site-packages (from selenium) (0.25.0)\n",
      "Requirement already satisfied: trio-websocket~=0.9 in c:\\users\\hp\\anaconda3\\lib\\site-packages (from selenium) (0.11.1)\n",
      "Requirement already satisfied: certifi>=2021.10.8 in c:\\users\\hp\\anaconda3\\lib\\site-packages (from selenium) (2023.7.22)\n",
      "Requirement already satisfied: typing_extensions>=4.9.0 in c:\\users\\hp\\anaconda3\\lib\\site-packages (from selenium) (4.10.0)\n",
      "Requirement already satisfied: attrs>=23.2.0 in c:\\users\\hp\\anaconda3\\lib\\site-packages (from trio~=0.17->selenium) (23.2.0)\n",
      "Requirement already satisfied: sortedcontainers in c:\\users\\hp\\anaconda3\\lib\\site-packages (from trio~=0.17->selenium) (2.4.0)\n",
      "Requirement already satisfied: idna in c:\\users\\hp\\anaconda3\\lib\\site-packages (from trio~=0.17->selenium) (3.4)\n",
      "Requirement already satisfied: outcome in c:\\users\\hp\\anaconda3\\lib\\site-packages (from trio~=0.17->selenium) (1.3.0.post0)\n",
      "Requirement already satisfied: sniffio>=1.3.0 in c:\\users\\hp\\anaconda3\\lib\\site-packages (from trio~=0.17->selenium) (1.3.1)\n",
      "Requirement already satisfied: cffi>=1.14 in c:\\users\\hp\\anaconda3\\lib\\site-packages (from trio~=0.17->selenium) (1.15.1)\n",
      "Requirement already satisfied: wsproto>=0.14 in c:\\users\\hp\\anaconda3\\lib\\site-packages (from trio-websocket~=0.9->selenium) (1.2.0)\n",
      "Requirement already satisfied: PySocks!=1.5.7,<2.0,>=1.5.6 in c:\\users\\hp\\anaconda3\\lib\\site-packages (from urllib3[socks]<3,>=1.26->selenium) (1.7.1)\n",
      "Requirement already satisfied: pycparser in c:\\users\\hp\\anaconda3\\lib\\site-packages (from cffi>=1.14->trio~=0.17->selenium) (2.21)\n",
      "Requirement already satisfied: h11<1,>=0.9.0 in c:\\users\\hp\\anaconda3\\lib\\site-packages (from wsproto>=0.14->trio-websocket~=0.9->selenium) (0.14.0)\n"
     ]
    }
   ],
   "source": [
    "!pip install selenium"
   ]
  },
  {
   "cell_type": "code",
   "execution_count": 2,
   "id": "a762fc37",
   "metadata": {},
   "outputs": [],
   "source": [
    "import selenium\n",
    "import pandas as pd\n",
    "from selenium import webdriver\n",
    "\n",
    "import warnings\n",
    "warnings.filterwarnings('ignore')\n",
    "\n",
    "from selenium.webdriver.common.by import By\n",
    "import time"
   ]
  },
  {
   "cell_type": "code",
   "execution_count": 18,
   "id": "82b8cb1d",
   "metadata": {},
   "outputs": [],
   "source": [
    "driver = webdriver.Chrome()"
   ]
  },
  {
   "cell_type": "code",
   "execution_count": 19,
   "id": "6f228d5a",
   "metadata": {},
   "outputs": [],
   "source": [
    "driver.get(\"https://www.amazon.in.\")"
   ]
  },
  {
   "cell_type": "code",
   "execution_count": 20,
   "id": "ea7e3cce",
   "metadata": {},
   "outputs": [],
   "source": [
    "search = driver.find_element(By.ID, \"twotabsearchtextbox\")"
   ]
  },
  {
   "cell_type": "code",
   "execution_count": 21,
   "id": "a6b54ff2",
   "metadata": {},
   "outputs": [
    {
     "name": "stdout",
     "output_type": "stream",
     "text": [
      "Please enter search input\n",
      "guitar\n"
     ]
    }
   ],
   "source": [
    "print(\"Please enter search input\")\n",
    "\n",
    "search_for = input()"
   ]
  },
  {
   "cell_type": "code",
   "execution_count": 22,
   "id": "556c5d72",
   "metadata": {},
   "outputs": [],
   "source": [
    "search.clear()\n",
    "search.send_keys(search_for)"
   ]
  },
  {
   "cell_type": "code",
   "execution_count": 23,
   "id": "4c2c7dde",
   "metadata": {},
   "outputs": [],
   "source": [
    "search_button = driver.find_element(By.ID, \"nav-search-submit-button\")\n",
    "search_button.click()"
   ]
  },
  {
   "cell_type": "code",
   "execution_count": null,
   "id": "718edb80",
   "metadata": {},
   "outputs": [],
   "source": []
  },
  {
   "cell_type": "markdown",
   "id": "25cb243b",
   "metadata": {},
   "source": [
    "### Q.2 In the above question, now scrape the following details of each product listed in first 3 pages of your search results and save it in a data frame and csv. In case if any product has less than 3 pages in search results then scrape all the products available under that product name. Details to be scraped are: \"Brand  Name\", \"Name of the Product\", \"Price\", \"Return/Exchange\", \"Expected Delivery\", \"Availability\" and  “Product URL”. In case, if any of the details are missing for any of the product then replace it by “-“. "
   ]
  },
  {
   "cell_type": "code",
   "execution_count": 24,
   "id": "39ca1740",
   "metadata": {},
   "outputs": [],
   "source": [
    "from selenium.common.exceptions import NoSuchElementException\n",
    "from selenium.common.exceptions import StaleElementReferenceException"
   ]
  },
  {
   "cell_type": "code",
   "execution_count": 25,
   "id": "a4231ee5",
   "metadata": {},
   "outputs": [
    {
     "name": "stdout",
     "output_type": "stream",
     "text": [
      "Product urls of page 1 has been scraped.\n",
      "Product urls of page 2 has been scraped.\n",
      "Product urls of page 3 has been scraped.\n"
     ]
    }
   ],
   "source": [
    "start = 0\n",
    "end = 2\n",
    "urls=[]\n",
    "\n",
    "for page in range(start, end+1):\n",
    "    try:\n",
    "        page_urls=driver.find_elements(By.XPATH, '//a[@class=\"a-link-normal s-underline-text s-underline-link-text s-link-style a-text-normal\"]')\n",
    "        \n",
    "        for url in page_urls:\n",
    "            url = url.get_attribute('href')\n",
    "            if url[0:4] == 'http':\n",
    "                urls.append(url)\n",
    "        print(\"Product urls of page {} has been scraped.\".format(page+1))\n",
    "        \n",
    "        next_button = driver.find_element(By.XPATH, '//a[@class=\"s-pagination-item s-pagination-next s-pagination-button s-pagination-separator\"]')        \n",
    "        if next_button.text == 'Next→':\n",
    "            next_button.click()\n",
    "            time.sleep(4)\n",
    "        \n",
    "        elif driver.find_element(By.XPATH, '//a[@class=\"s-pagination-item s-pagination-next s-pagination-button s-pagination-separator\"]').text =='Next→':\n",
    "            print(\"No other pages available\")\n",
    "            break\n",
    "            \n",
    "    except StaleElementReferenceException as e:\n",
    "        next_page = next_button.get_attribute('href')\n",
    "        driver.get(next_page)"
   ]
  },
  {
   "cell_type": "code",
   "execution_count": 26,
   "id": "3b938c3a",
   "metadata": {},
   "outputs": [
    {
     "data": {
      "text/plain": [
       "186"
      ]
     },
     "execution_count": 26,
     "metadata": {},
     "output_type": "execute_result"
    }
   ],
   "source": [
    "len(urls)"
   ]
  },
  {
   "cell_type": "code",
   "execution_count": 27,
   "id": "672a4905",
   "metadata": {},
   "outputs": [],
   "source": [
    "brand_name=[]\n",
    "product_name=[]\n",
    "price =[]\n",
    "return_exchange=[]\n",
    "expected_delivery=[]\n",
    "availability=[]\n",
    "product_url=[]"
   ]
  },
  {
   "cell_type": "code",
   "execution_count": 29,
   "id": "3104c5c6",
   "metadata": {},
   "outputs": [],
   "source": [
    "for a in urls:\n",
    "    driver.get(a)\n",
    "    time.sleep(2)\n",
    "    \n",
    "    # brand\n",
    "    try:\n",
    "        brand = driver.find_element(By.XPATH, '//div[@class=\"a-section a-spacing-small a-spacing-top-small\"]/table/tbody/tr[1]/td[2]')\n",
    "        brand_name.append(brand.text)\n",
    "    except NoSuchElementException as e:\n",
    "        product_name.append(\"--\")   \n",
    "\n",
    "\n",
    "    # Name\n",
    "    try:\n",
    "        name = driver.find_element(By.XPATH, '//span[@class=\"a-size-large product-title-word-break\"]')\n",
    "        product_name.append(name.text)\n",
    "    except NoSuchElementException as e:\n",
    "        product_name.append(\"--\")\n",
    "      \n",
    "    \n",
    "    # Price\n",
    "    try:\n",
    "        price1 = driver.find_element(By.XPATH, '//span[@class=\"a-price aok-align-center reinventPricePriceToPayMargin priceToPay\"]')\n",
    "        price.append(price1.text)\n",
    "    except NoSuchElementException as e:\n",
    "        price.append(\"--\")\n",
    "        \n",
    "    # PRODUCT_URL\n",
    "    try:\n",
    "        product_urls= driver.find_element(By.XPATH, '//img[@class=\"a-dynamic-image a-stretch-vertical\"]')\n",
    "        product_url.append(product_urls.get_attribute('src'))\n",
    "    except NoSuchElementException as e:\n",
    "        product_url.append(\"--\")\n",
    "   \n",
    "   # Availability\n",
    "    try:\n",
    "        product_available = driver.find_element(By.XPATH, '//span[@class=\"a-size-medium a-color-success\"]')\n",
    "        availability.append(product_available.text)\n",
    "    except NoSuchElementException as e:\n",
    "        price.append(\"--\")\n",
    "        \n",
    "    "
   ]
  },
  {
   "cell_type": "code",
   "execution_count": 30,
   "id": "db669662",
   "metadata": {},
   "outputs": [
    {
     "name": "stdout",
     "output_type": "stream",
     "text": [
      "['Kadence', 'Kadence', 'Kadence']\n",
      "['Kadence rosewood Guitar Frontier Series, Electric Acoustic Black Guitar With EQ, Die Cast Keys, Set Of Strings, Strap, Picks And Bag (Black EQ, Electric Acoustic)', 'Kadence Frontier guitar with Online Guitar learning course , Wine Red Acoustic Guitar with Die Cast Keys, Set of Strings, Strap, Picks and Bag (Wine Red, Acoustic)', 'Kadence Slowhand Premium Jumbo Semi Acoustic Guitar with Heavy Padded Bag, guitar cable, Pro Capo (Black Spruce Wood)']\n",
      "['₹4,899', '₹4,799', '₹9,999']\n",
      "['https://m.media-amazon.com/images/I/61+fz+3k-ZL._SX425_.jpg', 'https://m.media-amazon.com/images/I/51FdLmNuPSL._SX425_.jpg', 'https://m.media-amazon.com/images/I/51UPABaYDmL._SX425_.jpg']\n",
      "['In stock', 'In stock', 'In stock']\n"
     ]
    }
   ],
   "source": [
    "print(brand_name[0:3])\n",
    "print(product_name[0:3])\n",
    "print(price[0:3])\n",
    "print(product_url[0:3])\n",
    "print(availability[0:3])"
   ]
  },
  {
   "cell_type": "code",
   "execution_count": 31,
   "id": "8259239a",
   "metadata": {},
   "outputs": [
    {
     "name": "stdout",
     "output_type": "stream",
     "text": [
      "171\n",
      "201\n",
      "207\n",
      "186\n",
      "165\n"
     ]
    }
   ],
   "source": [
    "print(len(brand_name))\n",
    "print(len(product_name))\n",
    "print(len(price))\n",
    "print(len(product_url))\n",
    "print(len(availability))"
   ]
  },
  {
   "cell_type": "code",
   "execution_count": 32,
   "id": "6f714911",
   "metadata": {},
   "outputs": [
    {
     "ename": "ValueError",
     "evalue": "Length of values (201) does not match length of index (171)",
     "output_type": "error",
     "traceback": [
      "\u001b[1;31m---------------------------------------------------------------------------\u001b[0m",
      "\u001b[1;31mValueError\u001b[0m                                Traceback (most recent call last)",
      "Cell \u001b[1;32mIn[32], line 4\u001b[0m\n\u001b[0;32m      2\u001b[0m df\u001b[38;5;241m=\u001b[39mpd\u001b[38;5;241m.\u001b[39mDataFrame({})\n\u001b[0;32m      3\u001b[0m df[\u001b[38;5;124m'\u001b[39m\u001b[38;5;124mBrand\u001b[39m\u001b[38;5;124m'\u001b[39m]\u001b[38;5;241m=\u001b[39mbrand_name\n\u001b[1;32m----> 4\u001b[0m df[\u001b[38;5;124m'\u001b[39m\u001b[38;5;124mName of the product\u001b[39m\u001b[38;5;124m'\u001b[39m]\u001b[38;5;241m=\u001b[39mproduct_name\n\u001b[0;32m      5\u001b[0m df[\u001b[38;5;124m\"\u001b[39m\u001b[38;5;124mPrice\u001b[39m\u001b[38;5;124m\"\u001b[39m]\u001b[38;5;241m=\u001b[39mprice\n\u001b[0;32m      6\u001b[0m df[\u001b[38;5;124m\"\u001b[39m\u001b[38;5;124mProduct Url\u001b[39m\u001b[38;5;124m\"\u001b[39m]\u001b[38;5;241m=\u001b[39mproduct_url\n",
      "File \u001b[1;32m~\\anaconda3\\Lib\\site-packages\\pandas\\core\\frame.py:3980\u001b[0m, in \u001b[0;36mDataFrame.__setitem__\u001b[1;34m(self, key, value)\u001b[0m\n\u001b[0;32m   3977\u001b[0m     \u001b[38;5;28mself\u001b[39m\u001b[38;5;241m.\u001b[39m_setitem_array([key], value)\n\u001b[0;32m   3978\u001b[0m \u001b[38;5;28;01melse\u001b[39;00m:\n\u001b[0;32m   3979\u001b[0m     \u001b[38;5;66;03m# set column\u001b[39;00m\n\u001b[1;32m-> 3980\u001b[0m     \u001b[38;5;28mself\u001b[39m\u001b[38;5;241m.\u001b[39m_set_item(key, value)\n",
      "File \u001b[1;32m~\\anaconda3\\Lib\\site-packages\\pandas\\core\\frame.py:4174\u001b[0m, in \u001b[0;36mDataFrame._set_item\u001b[1;34m(self, key, value)\u001b[0m\n\u001b[0;32m   4164\u001b[0m \u001b[38;5;28;01mdef\u001b[39;00m \u001b[38;5;21m_set_item\u001b[39m(\u001b[38;5;28mself\u001b[39m, key, value) \u001b[38;5;241m-\u001b[39m\u001b[38;5;241m>\u001b[39m \u001b[38;5;28;01mNone\u001b[39;00m:\n\u001b[0;32m   4165\u001b[0m \u001b[38;5;250m    \u001b[39m\u001b[38;5;124;03m\"\"\"\u001b[39;00m\n\u001b[0;32m   4166\u001b[0m \u001b[38;5;124;03m    Add series to DataFrame in specified column.\u001b[39;00m\n\u001b[0;32m   4167\u001b[0m \n\u001b[1;32m   (...)\u001b[0m\n\u001b[0;32m   4172\u001b[0m \u001b[38;5;124;03m    ensure homogeneity.\u001b[39;00m\n\u001b[0;32m   4173\u001b[0m \u001b[38;5;124;03m    \"\"\"\u001b[39;00m\n\u001b[1;32m-> 4174\u001b[0m     value \u001b[38;5;241m=\u001b[39m \u001b[38;5;28mself\u001b[39m\u001b[38;5;241m.\u001b[39m_sanitize_column(value)\n\u001b[0;32m   4176\u001b[0m     \u001b[38;5;28;01mif\u001b[39;00m (\n\u001b[0;32m   4177\u001b[0m         key \u001b[38;5;129;01min\u001b[39;00m \u001b[38;5;28mself\u001b[39m\u001b[38;5;241m.\u001b[39mcolumns\n\u001b[0;32m   4178\u001b[0m         \u001b[38;5;129;01mand\u001b[39;00m value\u001b[38;5;241m.\u001b[39mndim \u001b[38;5;241m==\u001b[39m \u001b[38;5;241m1\u001b[39m\n\u001b[0;32m   4179\u001b[0m         \u001b[38;5;129;01mand\u001b[39;00m \u001b[38;5;129;01mnot\u001b[39;00m is_extension_array_dtype(value)\n\u001b[0;32m   4180\u001b[0m     ):\n\u001b[0;32m   4181\u001b[0m         \u001b[38;5;66;03m# broadcast across multiple columns if necessary\u001b[39;00m\n\u001b[0;32m   4182\u001b[0m         \u001b[38;5;28;01mif\u001b[39;00m \u001b[38;5;129;01mnot\u001b[39;00m \u001b[38;5;28mself\u001b[39m\u001b[38;5;241m.\u001b[39mcolumns\u001b[38;5;241m.\u001b[39mis_unique \u001b[38;5;129;01mor\u001b[39;00m \u001b[38;5;28misinstance\u001b[39m(\u001b[38;5;28mself\u001b[39m\u001b[38;5;241m.\u001b[39mcolumns, MultiIndex):\n",
      "File \u001b[1;32m~\\anaconda3\\Lib\\site-packages\\pandas\\core\\frame.py:4915\u001b[0m, in \u001b[0;36mDataFrame._sanitize_column\u001b[1;34m(self, value)\u001b[0m\n\u001b[0;32m   4912\u001b[0m     \u001b[38;5;28;01mreturn\u001b[39;00m _reindex_for_setitem(Series(value), \u001b[38;5;28mself\u001b[39m\u001b[38;5;241m.\u001b[39mindex)\n\u001b[0;32m   4914\u001b[0m \u001b[38;5;28;01mif\u001b[39;00m is_list_like(value):\n\u001b[1;32m-> 4915\u001b[0m     com\u001b[38;5;241m.\u001b[39mrequire_length_match(value, \u001b[38;5;28mself\u001b[39m\u001b[38;5;241m.\u001b[39mindex)\n\u001b[0;32m   4916\u001b[0m \u001b[38;5;28;01mreturn\u001b[39;00m sanitize_array(value, \u001b[38;5;28mself\u001b[39m\u001b[38;5;241m.\u001b[39mindex, copy\u001b[38;5;241m=\u001b[39m\u001b[38;5;28;01mTrue\u001b[39;00m, allow_2d\u001b[38;5;241m=\u001b[39m\u001b[38;5;28;01mTrue\u001b[39;00m)\n",
      "File \u001b[1;32m~\\anaconda3\\Lib\\site-packages\\pandas\\core\\common.py:571\u001b[0m, in \u001b[0;36mrequire_length_match\u001b[1;34m(data, index)\u001b[0m\n\u001b[0;32m    567\u001b[0m \u001b[38;5;250m\u001b[39m\u001b[38;5;124;03m\"\"\"\u001b[39;00m\n\u001b[0;32m    568\u001b[0m \u001b[38;5;124;03mCheck the length of data matches the length of the index.\u001b[39;00m\n\u001b[0;32m    569\u001b[0m \u001b[38;5;124;03m\"\"\"\u001b[39;00m\n\u001b[0;32m    570\u001b[0m \u001b[38;5;28;01mif\u001b[39;00m \u001b[38;5;28mlen\u001b[39m(data) \u001b[38;5;241m!=\u001b[39m \u001b[38;5;28mlen\u001b[39m(index):\n\u001b[1;32m--> 571\u001b[0m     \u001b[38;5;28;01mraise\u001b[39;00m \u001b[38;5;167;01mValueError\u001b[39;00m(\n\u001b[0;32m    572\u001b[0m         \u001b[38;5;124m\"\u001b[39m\u001b[38;5;124mLength of values \u001b[39m\u001b[38;5;124m\"\u001b[39m\n\u001b[0;32m    573\u001b[0m         \u001b[38;5;124mf\u001b[39m\u001b[38;5;124m\"\u001b[39m\u001b[38;5;124m(\u001b[39m\u001b[38;5;132;01m{\u001b[39;00m\u001b[38;5;28mlen\u001b[39m(data)\u001b[38;5;132;01m}\u001b[39;00m\u001b[38;5;124m) \u001b[39m\u001b[38;5;124m\"\u001b[39m\n\u001b[0;32m    574\u001b[0m         \u001b[38;5;124m\"\u001b[39m\u001b[38;5;124mdoes not match length of index \u001b[39m\u001b[38;5;124m\"\u001b[39m\n\u001b[0;32m    575\u001b[0m         \u001b[38;5;124mf\u001b[39m\u001b[38;5;124m\"\u001b[39m\u001b[38;5;124m(\u001b[39m\u001b[38;5;132;01m{\u001b[39;00m\u001b[38;5;28mlen\u001b[39m(index)\u001b[38;5;132;01m}\u001b[39;00m\u001b[38;5;124m)\u001b[39m\u001b[38;5;124m\"\u001b[39m\n\u001b[0;32m    576\u001b[0m     )\n",
      "\u001b[1;31mValueError\u001b[0m: Length of values (201) does not match length of index (171)"
     ]
    }
   ],
   "source": [
    "#creating data frame\n",
    "df=pd.DataFrame({})\n",
    "df['Brand']=brand_name\n",
    "df['Name of the product']=product_name\n",
    "df[\"Price\"]=price\n",
    "df[\"Product Url\"]=product_url\n",
    "df['Availability']=availability\n",
    "\n",
    "df"
   ]
  },
  {
   "cell_type": "code",
   "execution_count": null,
   "id": "cc806a42",
   "metadata": {},
   "outputs": [],
   "source": []
  },
  {
   "cell_type": "markdown",
   "id": "fd172b65",
   "metadata": {},
   "source": [
    "### Q.3 Write a python program to access the search bar and search button on images.google.com and scrape 10 images each for keywords ‘fruits’, ‘cars’ and ‘Machine Learning’, ‘Guitar’, ‘Cakes’. "
   ]
  },
  {
   "cell_type": "code",
   "execution_count": 1,
   "id": "ad3e65b9",
   "metadata": {},
   "outputs": [
    {
     "name": "stdout",
     "output_type": "stream",
     "text": [
      "Requirement already satisfied: selenium in c:\\users\\hp\\anaconda3\\lib\\site-packages (4.19.0)\n",
      "Requirement already satisfied: urllib3[socks]<3,>=1.26 in c:\\users\\hp\\anaconda3\\lib\\site-packages (from selenium) (1.26.16)\n",
      "Requirement already satisfied: trio~=0.17 in c:\\users\\hp\\anaconda3\\lib\\site-packages (from selenium) (0.25.0)\n",
      "Requirement already satisfied: trio-websocket~=0.9 in c:\\users\\hp\\anaconda3\\lib\\site-packages (from selenium) (0.11.1)\n",
      "Requirement already satisfied: certifi>=2021.10.8 in c:\\users\\hp\\anaconda3\\lib\\site-packages (from selenium) (2023.7.22)\n",
      "Requirement already satisfied: typing_extensions>=4.9.0 in c:\\users\\hp\\anaconda3\\lib\\site-packages (from selenium) (4.10.0)\n",
      "Requirement already satisfied: attrs>=23.2.0 in c:\\users\\hp\\anaconda3\\lib\\site-packages (from trio~=0.17->selenium) (23.2.0)\n",
      "Requirement already satisfied: sortedcontainers in c:\\users\\hp\\anaconda3\\lib\\site-packages (from trio~=0.17->selenium) (2.4.0)\n",
      "Requirement already satisfied: idna in c:\\users\\hp\\anaconda3\\lib\\site-packages (from trio~=0.17->selenium) (3.4)\n",
      "Requirement already satisfied: outcome in c:\\users\\hp\\anaconda3\\lib\\site-packages (from trio~=0.17->selenium) (1.3.0.post0)\n",
      "Requirement already satisfied: sniffio>=1.3.0 in c:\\users\\hp\\anaconda3\\lib\\site-packages (from trio~=0.17->selenium) (1.3.1)\n",
      "Requirement already satisfied: cffi>=1.14 in c:\\users\\hp\\anaconda3\\lib\\site-packages (from trio~=0.17->selenium) (1.15.1)\n",
      "Requirement already satisfied: wsproto>=0.14 in c:\\users\\hp\\anaconda3\\lib\\site-packages (from trio-websocket~=0.9->selenium) (1.2.0)\n",
      "Requirement already satisfied: PySocks!=1.5.7,<2.0,>=1.5.6 in c:\\users\\hp\\anaconda3\\lib\\site-packages (from urllib3[socks]<3,>=1.26->selenium) (1.7.1)\n",
      "Requirement already satisfied: pycparser in c:\\users\\hp\\anaconda3\\lib\\site-packages (from cffi>=1.14->trio~=0.17->selenium) (2.21)\n",
      "Requirement already satisfied: h11<1,>=0.9.0 in c:\\users\\hp\\anaconda3\\lib\\site-packages (from wsproto>=0.14->trio-websocket~=0.9->selenium) (0.14.0)\n"
     ]
    }
   ],
   "source": [
    "!pip install selenium"
   ]
  },
  {
   "cell_type": "code",
   "execution_count": 2,
   "id": "44b83b2c",
   "metadata": {},
   "outputs": [],
   "source": [
    "import selenium\n",
    "import pandas as pd\n",
    "from selenium import webdriver\n",
    "\n",
    "import warnings\n",
    "warnings.filterwarnings('ignore')\n",
    "\n",
    "from selenium.webdriver.common.by import By\n",
    "import time"
   ]
  },
  {
   "cell_type": "code",
   "execution_count": 3,
   "id": "99d469a5",
   "metadata": {},
   "outputs": [],
   "source": [
    "driver = webdriver.Chrome()"
   ]
  },
  {
   "cell_type": "code",
   "execution_count": 5,
   "id": "20f116af",
   "metadata": {},
   "outputs": [],
   "source": [
    "driver.get(\"https://images.google.com/\")"
   ]
  },
  {
   "cell_type": "code",
   "execution_count": 6,
   "id": "60cb971a",
   "metadata": {},
   "outputs": [],
   "source": [
    "search_bar = driver.find_element(By.XPATH, '//textarea[@class=\"gLFyf\"]')\n",
    "search_bar.send_keys('fruits')\n"
   ]
  },
  {
   "cell_type": "code",
   "execution_count": 8,
   "id": "edd83ca9",
   "metadata": {},
   "outputs": [],
   "source": [
    "search_button = driver.find_element(By.XPATH, '//span[@class=\"z1asCe MZy1Rb\"]')\n",
    "search_button.click()"
   ]
  },
  {
   "cell_type": "markdown",
   "id": "f893f5c2",
   "metadata": {},
   "source": [
    "#### This Code use when we need to scrap more data like 500/100/200 images, By using this we can automatically scroll down page and scrap the data\n",
    "\n",
    "##### for _ in range(20):\n",
    "     driver.execute_script(\"window.scrollBy(0,500)\")\n",
    "    "
   ]
  },
  {
   "cell_type": "code",
   "execution_count": 26,
   "id": "598fbe24",
   "metadata": {},
   "outputs": [],
   "source": [
    "img_urls = []\n",
    "\n",
    "\n",
    "images = driver.find_elements(By.XPATH, '//img[@class=\"YQ4gaf\"]')\n",
    "for image in images:\n",
    "    source = image.get_attribute('src')\n",
    "    if source is not None:\n",
    "        if(source[0:4] == 'http'):\n",
    "            img_urls.append(source)\n",
    "            \n",
    "            \n",
    "for i in range(len(img_urls)):\n",
    "    if i>10:\n",
    "        breakBy.XPATH,\n",
    "    print(\"Downloading {0} of {1} images\" .format(i, 10))\n",
    "    response = driver.get(img_urls[i])\n",
    "    file = open(r\"C:\\Users\\HP\\OneDrive\\Desktop\\FLIP ROBO INTERNSHIP\"+str(i)+\".jpg\", \"wb\")\n",
    "    file.write(response.content)"
   ]
  },
  {
   "cell_type": "code",
   "execution_count": null,
   "id": "e961c505",
   "metadata": {},
   "outputs": [],
   "source": []
  },
  {
   "cell_type": "code",
   "execution_count": null,
   "id": "59951df3",
   "metadata": {},
   "outputs": [],
   "source": []
  },
  {
   "cell_type": "markdown",
   "id": "8bcd065e",
   "metadata": {},
   "source": [
    "### Q.3 Write a python program to search for a smartphone(e.g.: Oneplus Nord, pixel 4A, etc.) on www.flipkart.com and scrape following details for all the search results displayed on 1st page. Details to be scraped: “Brand Name”, “Smartphone name”, “Colour”, “RAM”, “Storage(ROM)”, “Primary Camera”,  “Secondary Camera”, “Display Size”, “Battery Capacity”, “Price”, “Product URL”. Incase if any of the details is missing then replace it by “- “. Save your results in a dataframe and CSV.  "
   ]
  },
  {
   "cell_type": "code",
   "execution_count": 94,
   "id": "d9c74e97",
   "metadata": {},
   "outputs": [
    {
     "name": "stdout",
     "output_type": "stream",
     "text": [
      "Requirement already satisfied: selenium in c:\\users\\hp\\anaconda3\\lib\\site-packages (4.19.0)\n",
      "Requirement already satisfied: urllib3[socks]<3,>=1.26 in c:\\users\\hp\\anaconda3\\lib\\site-packages (from selenium) (1.26.16)\n",
      "Requirement already satisfied: trio~=0.17 in c:\\users\\hp\\anaconda3\\lib\\site-packages (from selenium) (0.25.0)\n",
      "Requirement already satisfied: trio-websocket~=0.9 in c:\\users\\hp\\anaconda3\\lib\\site-packages (from selenium) (0.11.1)\n",
      "Requirement already satisfied: certifi>=2021.10.8 in c:\\users\\hp\\anaconda3\\lib\\site-packages (from selenium) (2023.7.22)\n",
      "Requirement already satisfied: typing_extensions>=4.9.0 in c:\\users\\hp\\anaconda3\\lib\\site-packages (from selenium) (4.10.0)\n",
      "Requirement already satisfied: attrs>=23.2.0 in c:\\users\\hp\\anaconda3\\lib\\site-packages (from trio~=0.17->selenium) (23.2.0)\n",
      "Requirement already satisfied: sortedcontainers in c:\\users\\hp\\anaconda3\\lib\\site-packages (from trio~=0.17->selenium) (2.4.0)\n",
      "Requirement already satisfied: idna in c:\\users\\hp\\anaconda3\\lib\\site-packages (from trio~=0.17->selenium) (3.4)\n",
      "Requirement already satisfied: outcome in c:\\users\\hp\\anaconda3\\lib\\site-packages (from trio~=0.17->selenium) (1.3.0.post0)\n",
      "Requirement already satisfied: sniffio>=1.3.0 in c:\\users\\hp\\anaconda3\\lib\\site-packages (from trio~=0.17->selenium) (1.3.1)\n",
      "Requirement already satisfied: cffi>=1.14 in c:\\users\\hp\\anaconda3\\lib\\site-packages (from trio~=0.17->selenium) (1.15.1)\n",
      "Requirement already satisfied: wsproto>=0.14 in c:\\users\\hp\\anaconda3\\lib\\site-packages (from trio-websocket~=0.9->selenium) (1.2.0)\n",
      "Requirement already satisfied: PySocks!=1.5.7,<2.0,>=1.5.6 in c:\\users\\hp\\anaconda3\\lib\\site-packages (from urllib3[socks]<3,>=1.26->selenium) (1.7.1)\n",
      "Requirement already satisfied: pycparser in c:\\users\\hp\\anaconda3\\lib\\site-packages (from cffi>=1.14->trio~=0.17->selenium) (2.21)\n",
      "Requirement already satisfied: h11<1,>=0.9.0 in c:\\users\\hp\\anaconda3\\lib\\site-packages (from wsproto>=0.14->trio-websocket~=0.9->selenium) (0.14.0)\n"
     ]
    }
   ],
   "source": [
    "!pip install selenium"
   ]
  },
  {
   "cell_type": "code",
   "execution_count": 95,
   "id": "0f0e8f35",
   "metadata": {},
   "outputs": [],
   "source": [
    "import selenium\n",
    "import pandas as pd\n",
    "from selenium import webdriver\n",
    "\n",
    "import warnings\n",
    "warnings.filterwarnings('ignore')\n",
    "\n",
    "from selenium.webdriver.common.by import By\n",
    "import time"
   ]
  },
  {
   "cell_type": "code",
   "execution_count": 96,
   "id": "e651729e",
   "metadata": {},
   "outputs": [],
   "source": [
    "driver = webdriver.Chrome()"
   ]
  },
  {
   "cell_type": "code",
   "execution_count": 97,
   "id": "2298e25a",
   "metadata": {},
   "outputs": [],
   "source": [
    "driver.get(\"https://www.flipkart.com/\")"
   ]
  },
  {
   "cell_type": "code",
   "execution_count": 98,
   "id": "b8bb9ca9",
   "metadata": {},
   "outputs": [],
   "source": [
    "mobile1 = driver.find_element(By.XPATH, '//input[@class=\"Pke_EE\"]')\n",
    "mobile1.send_keys('Oneplus Nord')"
   ]
  },
  {
   "cell_type": "code",
   "execution_count": 99,
   "id": "918882f9",
   "metadata": {},
   "outputs": [],
   "source": [
    "search = driver.find_element(By.XPATH, '//button[@class=\"_2iLD__\"]')\n",
    "search.click()"
   ]
  },
  {
   "cell_type": "code",
   "execution_count": 28,
   "id": "ed885d02",
   "metadata": {},
   "outputs": [
    {
     "data": {
      "text/plain": [
       "['https://www.flipkart.com/oneplus-nord-ce-3-lite-5g-pastel-lime-256-gb/p/itm2cd5a4e659035?pid=MOBGZJ3ZFQ8AKKRS&lid=LSTMOBGZJ3ZFQ8AKKRSNGWNCD&marketplace=FLIPKART&q=Oneplus+Nord&store=tyy%2F4io&srno=s_1_1&otracker=search&otracker1=search&fm=organic&iid=43bebc86-0189-4b77-b78d-74cbdfb87aa8.MOBGZJ3ZFQ8AKKRS.SEARCH&ppt=hp&ppn=homepage&ssid=7vn69monlc0000001714212986215&qH=53863d4d978d5074',\n",
       " 'https://www.flipkart.com/oneplus-nord-ce-3-lite-5g-chromatic-gray-256-gb/p/itm2cd5a4e659035?pid=MOBGZJ45PS4AQ7BA&lid=LSTMOBGZJ45PS4AQ7BAWZZOBN&marketplace=FLIPKART&q=Oneplus+Nord&store=tyy%2F4io&spotlightTagId=FkPickId_tyy%2F4io&srno=s_1_2&otracker=search&otracker1=search&fm=Search&iid=43bebc86-0189-4b77-b78d-74cbdfb87aa8.MOBGZJ45PS4AQ7BA.SEARCH&ppt=sp&ppn=sp&ssid=7vn69monlc0000001714212986215&qH=53863d4d978d5074']"
      ]
     },
     "execution_count": 28,
     "metadata": {},
     "output_type": "execute_result"
    }
   ],
   "source": [
    "urls=[]\n",
    "\n",
    "page_urls = driver.find_elements(By.XPATH, '//a[@class=\"CGtC98\"]')\n",
    "\n",
    "for url in page_urls:\n",
    "    url = url.get_attribute('href')\n",
    "    if url[0:4] == 'http':\n",
    "        urls.append(url)\n",
    "        \n",
    "urls[0:2]"
   ]
  },
  {
   "cell_type": "code",
   "execution_count": 29,
   "id": "4ed7f0c5",
   "metadata": {},
   "outputs": [],
   "source": [
    "Brand_Name = []\n",
    "Name_of_the_product = []\n",
    "Price = []\n",
    "RAM = []\n",
    "Rom_Storage = []\n",
    "Colour = []\n",
    "Primary_camera = []\n",
    "Secondary_camera = []\n",
    "Display_size = []\n",
    "Battery_capacity = []\n",
    "Product_url = []"
   ]
  },
  {
   "cell_type": "code",
   "execution_count": 30,
   "id": "011511de",
   "metadata": {},
   "outputs": [],
   "source": [
    "from selenium.common.exceptions import NoSuchElementException\n",
    "from selenium.common.exceptions import StaleElementReferenceException"
   ]
  },
  {
   "cell_type": "code",
   "execution_count": 32,
   "id": "fd37d0bc",
   "metadata": {},
   "outputs": [
    {
     "ename": "JavascriptException",
     "evalue": "Message: javascript error: {\"status\":32,\"value\":\"Unable to locate an element with the xpath expression /html/body/div[1]/div/div[3]/div[1]/div[2]/div[8]/div[4]/div/div[2]/div[1]/div[4]/table/tbody/tr[1]/td[2]/ul/li)] because of the following error:\\nSyntaxError: Failed to execute 'evaluate' on 'Document': The string '/html/body/div[1]/div/div[3]/div[1]/div[2]/div[8]/div[4]/div/div[2]/div[1]/div[4]/table/tbody/tr[1]/td[2]/ul/li)]' is not a valid XPath expression.\"}\n  (Session info: chrome=124.0.6367.91)\nStacktrace:\n\tGetHandleVerifier [0x00007FF7935C1502+60802]\n\t(No symbol) [0x00007FF79353AC02]\n\t(No symbol) [0x00007FF7933F7CE4]\n\t(No symbol) [0x00007FF7933FDE26]\n\t(No symbol) [0x00007FF7934001DB]\n\t(No symbol) [0x00007FF793400280]\n\t(No symbol) [0x00007FF793446A11]\n\t(No symbol) [0x00007FF793446E1C]\n\t(No symbol) [0x00007FF79348CE37]\n\t(No symbol) [0x00007FF79346ABBF]\n\t(No symbol) [0x00007FF79348A224]\n\t(No symbol) [0x00007FF79346A923]\n\t(No symbol) [0x00007FF793438FEC]\n\t(No symbol) [0x00007FF793439C21]\n\tGetHandleVerifier [0x00007FF7938C411D+3217821]\n\tGetHandleVerifier [0x00007FF7939060B7+3488055]\n\tGetHandleVerifier [0x00007FF7938FF03F+3459263]\n\tGetHandleVerifier [0x00007FF79367B846+823494]\n\t(No symbol) [0x00007FF793545F9F]\n\t(No symbol) [0x00007FF793540EC4]\n\t(No symbol) [0x00007FF793541052]\n\t(No symbol) [0x00007FF7935318A4]\n\tBaseThreadInitThunk [0x00007FF870B67344+20]\n\tRtlUserThreadStart [0x00007FF870CA26B1+33]\n",
     "output_type": "error",
     "traceback": [
      "\u001b[1;31m---------------------------------------------------------------------------\u001b[0m",
      "\u001b[1;31mJavascriptException\u001b[0m                       Traceback (most recent call last)",
      "Cell \u001b[1;32mIn[32], line 48\u001b[0m\n\u001b[0;32m     45\u001b[0m  \u001b[38;5;66;03m# Rom/Strorage\u001b[39;00m\n\u001b[0;32m     47\u001b[0m \u001b[38;5;28;01mtry\u001b[39;00m:\n\u001b[1;32m---> 48\u001b[0m     rom  \u001b[38;5;241m=\u001b[39m driver\u001b[38;5;241m.\u001b[39mfind_element(By\u001b[38;5;241m.\u001b[39mXPATH, \u001b[38;5;124m'\u001b[39m\u001b[38;5;124m/html/body/div[1]/div/div[3]/div[1]/div[2]/div[8]/div[4]/div/div[2]/div[1]/div[4]/table/tbody/tr[1]/td[2]/ul/li)]\u001b[39m\u001b[38;5;124m'\u001b[39m)\n\u001b[0;32m     49\u001b[0m     Rom_Storage\u001b[38;5;241m.\u001b[39mappend(rom\u001b[38;5;241m.\u001b[39mtext)\n\u001b[0;32m     50\u001b[0m \u001b[38;5;28;01mexcept\u001b[39;00m NoSuchElementException \u001b[38;5;28;01mas\u001b[39;00m e:\n",
      "File \u001b[1;32m~\\anaconda3\\Lib\\site-packages\\selenium\\webdriver\\remote\\webdriver.py:741\u001b[0m, in \u001b[0;36mWebDriver.find_element\u001b[1;34m(self, by, value)\u001b[0m\n\u001b[0;32m    738\u001b[0m     by \u001b[38;5;241m=\u001b[39m By\u001b[38;5;241m.\u001b[39mCSS_SELECTOR\n\u001b[0;32m    739\u001b[0m     value \u001b[38;5;241m=\u001b[39m \u001b[38;5;124mf\u001b[39m\u001b[38;5;124m'\u001b[39m\u001b[38;5;124m[name=\u001b[39m\u001b[38;5;124m\"\u001b[39m\u001b[38;5;132;01m{\u001b[39;00mvalue\u001b[38;5;132;01m}\u001b[39;00m\u001b[38;5;124m\"\u001b[39m\u001b[38;5;124m]\u001b[39m\u001b[38;5;124m'\u001b[39m\n\u001b[1;32m--> 741\u001b[0m \u001b[38;5;28;01mreturn\u001b[39;00m \u001b[38;5;28mself\u001b[39m\u001b[38;5;241m.\u001b[39mexecute(Command\u001b[38;5;241m.\u001b[39mFIND_ELEMENT, {\u001b[38;5;124m\"\u001b[39m\u001b[38;5;124musing\u001b[39m\u001b[38;5;124m\"\u001b[39m: by, \u001b[38;5;124m\"\u001b[39m\u001b[38;5;124mvalue\u001b[39m\u001b[38;5;124m\"\u001b[39m: value})[\u001b[38;5;124m\"\u001b[39m\u001b[38;5;124mvalue\u001b[39m\u001b[38;5;124m\"\u001b[39m]\n",
      "File \u001b[1;32m~\\anaconda3\\Lib\\site-packages\\selenium\\webdriver\\remote\\webdriver.py:347\u001b[0m, in \u001b[0;36mWebDriver.execute\u001b[1;34m(self, driver_command, params)\u001b[0m\n\u001b[0;32m    345\u001b[0m response \u001b[38;5;241m=\u001b[39m \u001b[38;5;28mself\u001b[39m\u001b[38;5;241m.\u001b[39mcommand_executor\u001b[38;5;241m.\u001b[39mexecute(driver_command, params)\n\u001b[0;32m    346\u001b[0m \u001b[38;5;28;01mif\u001b[39;00m response:\n\u001b[1;32m--> 347\u001b[0m     \u001b[38;5;28mself\u001b[39m\u001b[38;5;241m.\u001b[39merror_handler\u001b[38;5;241m.\u001b[39mcheck_response(response)\n\u001b[0;32m    348\u001b[0m     response[\u001b[38;5;124m\"\u001b[39m\u001b[38;5;124mvalue\u001b[39m\u001b[38;5;124m\"\u001b[39m] \u001b[38;5;241m=\u001b[39m \u001b[38;5;28mself\u001b[39m\u001b[38;5;241m.\u001b[39m_unwrap_value(response\u001b[38;5;241m.\u001b[39mget(\u001b[38;5;124m\"\u001b[39m\u001b[38;5;124mvalue\u001b[39m\u001b[38;5;124m\"\u001b[39m, \u001b[38;5;28;01mNone\u001b[39;00m))\n\u001b[0;32m    349\u001b[0m     \u001b[38;5;28;01mreturn\u001b[39;00m response\n",
      "File \u001b[1;32m~\\anaconda3\\Lib\\site-packages\\selenium\\webdriver\\remote\\errorhandler.py:229\u001b[0m, in \u001b[0;36mErrorHandler.check_response\u001b[1;34m(self, response)\u001b[0m\n\u001b[0;32m    227\u001b[0m         alert_text \u001b[38;5;241m=\u001b[39m value[\u001b[38;5;124m\"\u001b[39m\u001b[38;5;124malert\u001b[39m\u001b[38;5;124m\"\u001b[39m]\u001b[38;5;241m.\u001b[39mget(\u001b[38;5;124m\"\u001b[39m\u001b[38;5;124mtext\u001b[39m\u001b[38;5;124m\"\u001b[39m)\n\u001b[0;32m    228\u001b[0m     \u001b[38;5;28;01mraise\u001b[39;00m exception_class(message, screen, stacktrace, alert_text)  \u001b[38;5;66;03m# type: ignore[call-arg]  # mypy is not smart enough here\u001b[39;00m\n\u001b[1;32m--> 229\u001b[0m \u001b[38;5;28;01mraise\u001b[39;00m exception_class(message, screen, stacktrace)\n",
      "\u001b[1;31mJavascriptException\u001b[0m: Message: javascript error: {\"status\":32,\"value\":\"Unable to locate an element with the xpath expression /html/body/div[1]/div/div[3]/div[1]/div[2]/div[8]/div[4]/div/div[2]/div[1]/div[4]/table/tbody/tr[1]/td[2]/ul/li)] because of the following error:\\nSyntaxError: Failed to execute 'evaluate' on 'Document': The string '/html/body/div[1]/div/div[3]/div[1]/div[2]/div[8]/div[4]/div/div[2]/div[1]/div[4]/table/tbody/tr[1]/td[2]/ul/li)]' is not a valid XPath expression.\"}\n  (Session info: chrome=124.0.6367.91)\nStacktrace:\n\tGetHandleVerifier [0x00007FF7935C1502+60802]\n\t(No symbol) [0x00007FF79353AC02]\n\t(No symbol) [0x00007FF7933F7CE4]\n\t(No symbol) [0x00007FF7933FDE26]\n\t(No symbol) [0x00007FF7934001DB]\n\t(No symbol) [0x00007FF793400280]\n\t(No symbol) [0x00007FF793446A11]\n\t(No symbol) [0x00007FF793446E1C]\n\t(No symbol) [0x00007FF79348CE37]\n\t(No symbol) [0x00007FF79346ABBF]\n\t(No symbol) [0x00007FF79348A224]\n\t(No symbol) [0x00007FF79346A923]\n\t(No symbol) [0x00007FF793438FEC]\n\t(No symbol) [0x00007FF793439C21]\n\tGetHandleVerifier [0x00007FF7938C411D+3217821]\n\tGetHandleVerifier [0x00007FF7939060B7+3488055]\n\tGetHandleVerifier [0x00007FF7938FF03F+3459263]\n\tGetHandleVerifier [0x00007FF79367B846+823494]\n\t(No symbol) [0x00007FF793545F9F]\n\t(No symbol) [0x00007FF793540EC4]\n\t(No symbol) [0x00007FF793541052]\n\t(No symbol) [0x00007FF7935318A4]\n\tBaseThreadInitThunk [0x00007FF870B67344+20]\n\tRtlUserThreadStart [0x00007FF870CA26B1+33]\n"
     ]
    }
   ],
   "source": [
    "for a in urls:\n",
    "    driver.get(a)\n",
    "    time.sleep(2)\n",
    "    \n",
    "    \n",
    "    # Brand_name\n",
    "    \n",
    "    brand = driver.find_element(By.XPATH, '//span[@class=\"VU-ZEz\"]')\n",
    "    Brand_Name.append(brand.text)\n",
    "       \n",
    "    \n",
    "    # Name_of_the_product\n",
    "    \n",
    "    name = driver.find_element(By.XPATH, '//span[@class=\"VU-ZEz\"]')\n",
    "    Name_of_the_product.append(brand.text)\n",
    "     \n",
    "        \n",
    "        \n",
    "    #read_all_data\n",
    "    read_all_data = driver.find_element(By.XPATH, '//button[@class=\"QqFHMw _4FgsLt\"]')\n",
    "    read_all_data.click()\n",
    "   \n",
    "\n",
    "\n",
    "    # Price\n",
    "    \n",
    "    price_product = driver.find_element(By.XPATH, '//div[@class=\"Nx9bqj CxhGGd\"]')\n",
    "    Price.append(price_product.text)\n",
    "    \n",
    "    \n",
    "    #procuct_urls\n",
    "    try:\n",
    "        product_urls = driver.find_element(By.XPATH, '//img[@class=\"DByuf4\"]')\n",
    "        Product_url.append(product_urls.get_attribute('src'))\n",
    "    except NoSuchElementException as e:\n",
    "        Product_url.append(\"--\")\n",
    "        \n",
    "    \n",
    "    # COLOUR\n",
    "    colour_name = driver.find_element(By.XPATH, '//table[@class=\"_0ZhAN9\"]/tbody/tr[4]/td[2]')\n",
    "    Colour.append(colour_name.text)\n",
    "    \n",
    "    \n",
    "    \n",
    "     # Rom/Strorage\n",
    "    \n",
    "    try:\n",
    "        rom_storage  = driver.find_element(By.XPATH, '/html/body/div[1]/div/div[3]/div[1]/div[2]/div[8]/div[4]/div/div[2]/div[1]/div[4]/table/tbody/tr[1]/td[2]/ul/li)]')\n",
    "        Rom_Storage.append(rom_storage.text)\n",
    "    except NoSuchElementException as e:\n",
    "        Rom_Storage.append(\"--\")\n",
    "    \n",
    "    \n",
    "    # RAM  \n",
    "    \n",
    "    try:\n",
    "        ram_ = driver.find_element(By.XPATH, '/html/body/div[1]/div/div[3]/div[1]/div[2]/div[8]/div[4]/div/div[2]/div[1]/div[4]/table/tbody/tr[2]/td[2]/ul/li')\n",
    "        RAM.append(ram_.text)\n",
    "    except NoSuchElementException as e:\n",
    "        RAM.append(\"--\")\n",
    "\n",
    "        \n",
    "    # primary camera \n",
    "    try: \n",
    "        primary_cam = driver.find_element(By.XPATH, '/html/body/div[1]/div/div[3]/div[1]/div[2]/div[8]/div[4]/div/div[2]/div[1]/div[5]/table/tbody/tr[1]/td[2]/ul/li')\n",
    "        Primary_camera.append(primary_cam.text)\n",
    "    except NoSuchElementException as e:\n",
    "        Primary_camera.append(\"--\")\n",
    "        \n",
    "        \n",
    "        \n",
    "    # Secondary Camera\n",
    "    try:\n",
    "        secondary_cam = driver.find_element(By.XPATH, '/html/body/div[1]/div/div[3]/div[1]/div[2]/div[8]/div[4]/div/div[2]/div[1]/div[5]/table/tbody/tr[2]/td[2]/ul/li')\n",
    "        Secondary_camera.append(secondary_cam.text)\n",
    "    except NoSuchElementException as e:\n",
    "        Secondary_camera.append(\"--\")\n",
    "      \n",
    "    \n",
    "    \n",
    "    # Display_size\n",
    "    \n",
    "    try:\n",
    "        display = driver.find_element(By.XPATH, '/html/body/div[1]/div/div[3]/div[1]/div[2]/div[8]/div[4]/div/div[2]/div[1]/div[2]/table/tbody/tr[1]/td[2]/ul/li')\n",
    "        Display_size.append(display.text)\n",
    "    except NoSuchElementException as e:\n",
    "        Secondary_camera.append(\"--\")   \n",
    "    \n",
    "        \n",
    "        \n",
    "    # Battery_capacity\n",
    "    \n",
    "    try: \n",
    "        battery = driver.find_element(By.XPATH, '/html/body/div[1]/div/div[3]/div[1]/div[2]/div[8]/div[4]/div/div[2]/div[1]/div[7]/table/tbody/tr/td[2]/ul/li')\n",
    "        Battery_capacity.append(battery.text)\n",
    "    except NoSuchElementException as e:\n",
    "        Battery_capacity.append(\"--\")\n",
    "        \n",
    "        \n",
    "\n",
    "\n",
    "#view the output    \n",
    "print(Brand_Name[0:2])\n",
    "print(Name_of_the_product[0:2])\n",
    "print(Price[0:2])\n",
    "print(RAM[0:2])\n",
    "print(Rom_Storage[0:2])\n",
    "print(Colour[0:2])\n",
    "print(Primary_camera[0:2])\n",
    "print(Secondary_camera[0:2])\n",
    "print(Display_size[0:2])\n",
    "print(Battery_capacity[0:2])\n",
    "print(Product_url[0:2])\n",
    "  \n",
    "    "
   ]
  },
  {
   "cell_type": "code",
   "execution_count": null,
   "id": "aa66e145",
   "metadata": {},
   "outputs": [],
   "source": [
    "print(len(Brand_Name))\n",
    "print(len(Name_of_the_product))\n",
    "print(len(Price))\n",
    "print(len(RAM))\n",
    "print(len(Rom_Storage))\n",
    "print(len(Colour))\n",
    "print(len(Primary_camera))\n",
    "print(len(Secondary_camera))\n",
    "print(len(Display_size))\n",
    "print(len(Battery_capacity))\n",
    "print(len(Product_url))"
   ]
  },
  {
   "cell_type": "code",
   "execution_count": null,
   "id": "a88bfa88",
   "metadata": {},
   "outputs": [],
   "source": [
    "#create dataframe\n",
    "df=pd.DataFrame({})\n",
    "\n",
    "df[\"Brand Name\"]=Brand_Name\n",
    "df[\"Name of the product\"]=Name_of_the_product\n",
    "df[\"Price\"]=Price\n",
    "df[\"RAM\"]=RAM\n",
    "df[\"Rom Storage\"]=Rom_Storage\n",
    "df[\"Colour\"]=Colour\n",
    "df[\"Primary camera\"]=Primary_camera\n",
    "df[\"Secondary camera\"]=Secondary_camera\n",
    "df[\"DDisplay size\"]=Display_size\n",
    "df[\"Battery capacity\"]=Battery_capacity\n",
    "df[\"Product url\"]=Product_url\n",
    "\n",
    "df"
   ]
  },
  {
   "cell_type": "code",
   "execution_count": null,
   "id": "6b698e27",
   "metadata": {},
   "outputs": [],
   "source": []
  },
  {
   "cell_type": "markdown",
   "id": "fe9cd540",
   "metadata": {},
   "source": [
    "### Q.5  Write a program to scrap geospatial coordinates (latitude, longitude) of a city searched on google maps. "
   ]
  },
  {
   "cell_type": "code",
   "execution_count": 2,
   "id": "eaa0b4ed",
   "metadata": {},
   "outputs": [
    {
     "name": "stdout",
     "output_type": "stream",
     "text": [
      "Requirement already satisfied: selenium in c:\\users\\hp\\anaconda3\\lib\\site-packages (4.19.0)\n",
      "Requirement already satisfied: urllib3[socks]<3,>=1.26 in c:\\users\\hp\\anaconda3\\lib\\site-packages (from selenium) (1.26.16)\n",
      "Requirement already satisfied: trio~=0.17 in c:\\users\\hp\\anaconda3\\lib\\site-packages (from selenium) (0.25.0)\n",
      "Requirement already satisfied: trio-websocket~=0.9 in c:\\users\\hp\\anaconda3\\lib\\site-packages (from selenium) (0.11.1)\n",
      "Requirement already satisfied: certifi>=2021.10.8 in c:\\users\\hp\\anaconda3\\lib\\site-packages (from selenium) (2023.7.22)\n",
      "Requirement already satisfied: typing_extensions>=4.9.0 in c:\\users\\hp\\anaconda3\\lib\\site-packages (from selenium) (4.10.0)\n",
      "Requirement already satisfied: attrs>=23.2.0 in c:\\users\\hp\\anaconda3\\lib\\site-packages (from trio~=0.17->selenium) (23.2.0)\n",
      "Requirement already satisfied: sortedcontainers in c:\\users\\hp\\anaconda3\\lib\\site-packages (from trio~=0.17->selenium) (2.4.0)\n",
      "Requirement already satisfied: idna in c:\\users\\hp\\anaconda3\\lib\\site-packages (from trio~=0.17->selenium) (3.4)\n",
      "Requirement already satisfied: outcome in c:\\users\\hp\\anaconda3\\lib\\site-packages (from trio~=0.17->selenium) (1.3.0.post0)\n",
      "Requirement already satisfied: sniffio>=1.3.0 in c:\\users\\hp\\anaconda3\\lib\\site-packages (from trio~=0.17->selenium) (1.3.1)\n",
      "Requirement already satisfied: cffi>=1.14 in c:\\users\\hp\\anaconda3\\lib\\site-packages (from trio~=0.17->selenium) (1.15.1)\n",
      "Requirement already satisfied: wsproto>=0.14 in c:\\users\\hp\\anaconda3\\lib\\site-packages (from trio-websocket~=0.9->selenium) (1.2.0)\n",
      "Requirement already satisfied: PySocks!=1.5.7,<2.0,>=1.5.6 in c:\\users\\hp\\anaconda3\\lib\\site-packages (from urllib3[socks]<3,>=1.26->selenium) (1.7.1)\n",
      "Requirement already satisfied: pycparser in c:\\users\\hp\\anaconda3\\lib\\site-packages (from cffi>=1.14->trio~=0.17->selenium) (2.21)\n",
      "Requirement already satisfied: h11<1,>=0.9.0 in c:\\users\\hp\\anaconda3\\lib\\site-packages (from wsproto>=0.14->trio-websocket~=0.9->selenium) (0.14.0)\n"
     ]
    }
   ],
   "source": [
    "!pip install selenium"
   ]
  },
  {
   "cell_type": "code",
   "execution_count": 3,
   "id": "6af644ee",
   "metadata": {},
   "outputs": [],
   "source": [
    "import selenium\n",
    "import pandas as pd\n",
    "from selenium import webdriver\n",
    "\n",
    "import warnings\n",
    "warnings.filterwarnings('ignore')\n",
    "\n",
    "from selenium.webdriver.common.by import By\n",
    "import time"
   ]
  },
  {
   "cell_type": "code",
   "execution_count": 4,
   "id": "97f3db1f",
   "metadata": {},
   "outputs": [],
   "source": [
    "from selenium.common.exceptions import NoSuchElementException\n",
    "from selenium.common.exceptions import StaleElementReferenceException"
   ]
  },
  {
   "cell_type": "code",
   "execution_count": 5,
   "id": "bc4efd4e",
   "metadata": {},
   "outputs": [],
   "source": [
    "driver = webdriver.Chrome()"
   ]
  },
  {
   "cell_type": "code",
   "execution_count": 6,
   "id": "82c15134",
   "metadata": {},
   "outputs": [],
   "source": [
    "driver.get(\"https://www.google.com/maps/@19.0463218,73.0759443,15z?entry=ttu\")"
   ]
  },
  {
   "cell_type": "code",
   "execution_count": 7,
   "id": "9e6026ff",
   "metadata": {},
   "outputs": [],
   "source": [
    "time.sleep(2)\n",
    "\n",
    "search = driver.find_element(By.XPATH, '//input[@class=\"searchboxinput xiQnY\"]')"
   ]
  },
  {
   "cell_type": "code",
   "execution_count": 8,
   "id": "1e070c85",
   "metadata": {},
   "outputs": [
    {
     "name": "stdout",
     "output_type": "stream",
     "text": [
      "write city name\n",
      "alibag\n"
     ]
    }
   ],
   "source": [
    "# Take a Input city name\n",
    "\n",
    "print(\"write city name\")\n",
    "city = input()"
   ]
  },
  {
   "cell_type": "code",
   "execution_count": 9,
   "id": "1e7e5ea5",
   "metadata": {},
   "outputs": [],
   "source": [
    "search.clear()\n",
    "\n",
    "search.send_keys(city)\n",
    "\n",
    "time.sleep(1)"
   ]
  },
  {
   "cell_type": "code",
   "execution_count": 10,
   "id": "be459528",
   "metadata": {},
   "outputs": [],
   "source": [
    "search_button = driver.find_element(By.ID, 'searchbox-searchbutton')\n",
    "search_button.click()\n",
    "time.sleep(3)"
   ]
  },
  {
   "cell_type": "code",
   "execution_count": 11,
   "id": "a723ce5f",
   "metadata": {},
   "outputs": [
    {
     "name": "stdout",
     "output_type": "stream",
     "text": [
      "URL =  https://www.google.com/maps/place/Alibag,+Maharashtra/@18.6581722,72.8606715,14z/data=!3m1!4b1!4m6!3m5!1s0x3be87a3b9826f96b:0xa9634e5680f68b81!8m2!3d18.6583989!4d72.8773346!16zL20vMDNqejN3?entry=ttu\n",
      "['18.6581722,72.8606715,14z/']\n"
     ]
    }
   ],
   "source": [
    "## TO GET UR\n",
    "import re\n",
    "\n",
    "url_string = driver.current_url\n",
    "print(\"URL = \",url_string )\n",
    "pattern = '@(.*)data'\n",
    "lat_lng = re.findall(pattern, url_string)\n",
    "print(lat_lng)"
   ]
  },
  {
   "cell_type": "code",
   "execution_count": null,
   "id": "3a113315",
   "metadata": {},
   "outputs": [],
   "source": []
  },
  {
   "cell_type": "code",
   "execution_count": null,
   "id": "34b58c17",
   "metadata": {},
   "outputs": [],
   "source": []
  },
  {
   "cell_type": "code",
   "execution_count": null,
   "id": "1fb1f9ff",
   "metadata": {},
   "outputs": [],
   "source": []
  },
  {
   "cell_type": "markdown",
   "id": "87b2d0fe",
   "metadata": {},
   "source": [
    "### Q. 6 Write a program to scrap all the available details of best gaming laptops from digit.in., go to Top 10, Laptop, Best gaming laptop in india, and scrap the data."
   ]
  },
  {
   "cell_type": "code",
   "execution_count": 1,
   "id": "183b2c60",
   "metadata": {},
   "outputs": [
    {
     "name": "stdout",
     "output_type": "stream",
     "text": [
      "Requirement already satisfied: selenium in c:\\users\\hp\\anaconda3\\lib\\site-packages (4.19.0)\n",
      "Requirement already satisfied: urllib3[socks]<3,>=1.26 in c:\\users\\hp\\anaconda3\\lib\\site-packages (from selenium) (1.26.16)\n",
      "Requirement already satisfied: trio~=0.17 in c:\\users\\hp\\anaconda3\\lib\\site-packages (from selenium) (0.25.0)\n",
      "Requirement already satisfied: trio-websocket~=0.9 in c:\\users\\hp\\anaconda3\\lib\\site-packages (from selenium) (0.11.1)\n",
      "Requirement already satisfied: certifi>=2021.10.8 in c:\\users\\hp\\anaconda3\\lib\\site-packages (from selenium) (2023.7.22)\n",
      "Requirement already satisfied: typing_extensions>=4.9.0 in c:\\users\\hp\\anaconda3\\lib\\site-packages (from selenium) (4.10.0)\n",
      "Requirement already satisfied: attrs>=23.2.0 in c:\\users\\hp\\anaconda3\\lib\\site-packages (from trio~=0.17->selenium) (23.2.0)\n",
      "Requirement already satisfied: sortedcontainers in c:\\users\\hp\\anaconda3\\lib\\site-packages (from trio~=0.17->selenium) (2.4.0)\n",
      "Requirement already satisfied: idna in c:\\users\\hp\\anaconda3\\lib\\site-packages (from trio~=0.17->selenium) (3.4)\n",
      "Requirement already satisfied: outcome in c:\\users\\hp\\anaconda3\\lib\\site-packages (from trio~=0.17->selenium) (1.3.0.post0)\n",
      "Requirement already satisfied: sniffio>=1.3.0 in c:\\users\\hp\\anaconda3\\lib\\site-packages (from trio~=0.17->selenium) (1.3.1)\n",
      "Requirement already satisfied: cffi>=1.14 in c:\\users\\hp\\anaconda3\\lib\\site-packages (from trio~=0.17->selenium) (1.15.1)\n",
      "Requirement already satisfied: wsproto>=0.14 in c:\\users\\hp\\anaconda3\\lib\\site-packages (from trio-websocket~=0.9->selenium) (1.2.0)\n",
      "Requirement already satisfied: PySocks!=1.5.7,<2.0,>=1.5.6 in c:\\users\\hp\\anaconda3\\lib\\site-packages (from urllib3[socks]<3,>=1.26->selenium) (1.7.1)\n",
      "Requirement already satisfied: pycparser in c:\\users\\hp\\anaconda3\\lib\\site-packages (from cffi>=1.14->trio~=0.17->selenium) (2.21)\n",
      "Requirement already satisfied: h11<1,>=0.9.0 in c:\\users\\hp\\anaconda3\\lib\\site-packages (from wsproto>=0.14->trio-websocket~=0.9->selenium) (0.14.0)\n"
     ]
    }
   ],
   "source": [
    "!pip install selenium"
   ]
  },
  {
   "cell_type": "code",
   "execution_count": 2,
   "id": "51c3fd42",
   "metadata": {},
   "outputs": [],
   "source": [
    "import selenium\n",
    "import pandas as pd\n",
    "from selenium import webdriver\n",
    "\n",
    "import warnings\n",
    "warnings.filterwarnings('ignore')\n",
    "\n",
    "from selenium.webdriver.common.by import By\n",
    "import time"
   ]
  },
  {
   "cell_type": "code",
   "execution_count": 3,
   "id": "0c964852",
   "metadata": {},
   "outputs": [],
   "source": [
    "driver = webdriver.Chrome()"
   ]
  },
  {
   "cell_type": "code",
   "execution_count": 4,
   "id": "12ccb3eb",
   "metadata": {},
   "outputs": [],
   "source": [
    "driver.get(\"https://www.digit.in/\")"
   ]
  },
  {
   "cell_type": "code",
   "execution_count": 5,
   "id": "6eb0b3d5",
   "metadata": {},
   "outputs": [],
   "source": [
    "from selenium.common.exceptions import NoSuchElementException\n",
    "from selenium.common.exceptions import StaleElementReferenceException"
   ]
  },
  {
   "cell_type": "code",
   "execution_count": 6,
   "id": "87c2b428",
   "metadata": {},
   "outputs": [],
   "source": [
    "top_10 = driver.find_element(By.XPATH, '/html/body/div[1]/header/div/div[2]/div/nav/ul/li[3]/a')\n",
    "top_10.click()"
   ]
  },
  {
   "cell_type": "code",
   "execution_count": 7,
   "id": "918be519",
   "metadata": {},
   "outputs": [],
   "source": [
    "best_gaming_laptop = driver.find_element(By.XPATH, '/html/body/div[1]/div[3]/div/div[2]/div[1]/div[3]/div[11]/p/a')\n",
    "best_gaming_laptop.click()"
   ]
  },
  {
   "cell_type": "code",
   "execution_count": 8,
   "id": "7ddc44fa",
   "metadata": {},
   "outputs": [],
   "source": [
    "laptop_name = []\n",
    "operating_system = []\n",
    "display_size = []\n",
    "Processor = []"
   ]
  },
  {
   "cell_type": "code",
   "execution_count": 10,
   "id": "600443cc",
   "metadata": {},
   "outputs": [],
   "source": [
    "name = driver.find_elements(By.XPATH, '//div[@class=\"rh_gr_top_middle mb10 colored_rate_bar\"]')\n",
    "for i in name:\n",
    "    laptop_name.append(i.text)\n",
    "\n",
    "    \n",
    "    \n",
    "    \n",
    "system = driver.find_elements(By.XPATH, '//div[@class=\"woo_code_loop_item font90\"][1]/div/span[2]')\n",
    "for j in system:\n",
    "    operating_system.append(j.text)\n",
    "    \n",
    "\n",
    "\n",
    "display = driver.find_elements(By.XPATH, '//div[@class=\"woo_code_loop_item font90\"][2]/div/span[2]')\n",
    "for q in display:\n",
    "    display_size.append(q.text)\n",
    "    \n",
    "    \n",
    "    \n",
    "processor_ = driver.find_elements(By.XPATH, '//div[@class=\"woo_code_loop_item font90\"][4]/div/span[2]')\n",
    "for p in processor_:\n",
    "    Processor.append(p.text)\n",
    "    "
   ]
  },
  {
   "cell_type": "code",
   "execution_count": 11,
   "id": "5d4aa2a6",
   "metadata": {},
   "outputs": [
    {
     "name": "stdout",
     "output_type": "stream",
     "text": [
      "7\n",
      "7\n",
      "7\n",
      "7\n"
     ]
    }
   ],
   "source": [
    "print(len(laptop_name))\n",
    "print(len(operating_system))\n",
    "print(len(display_size))\n",
    "print(len(Processor))"
   ]
  },
  {
   "cell_type": "code",
   "execution_count": 12,
   "id": "311f6006",
   "metadata": {},
   "outputs": [
    {
     "data": {
      "text/html": [
       "<div>\n",
       "<style scoped>\n",
       "    .dataframe tbody tr th:only-of-type {\n",
       "        vertical-align: middle;\n",
       "    }\n",
       "\n",
       "    .dataframe tbody tr th {\n",
       "        vertical-align: top;\n",
       "    }\n",
       "\n",
       "    .dataframe thead th {\n",
       "        text-align: right;\n",
       "    }\n",
       "</style>\n",
       "<table border=\"1\" class=\"dataframe\">\n",
       "  <thead>\n",
       "    <tr style=\"text-align: right;\">\n",
       "      <th></th>\n",
       "      <th>Laptop Name</th>\n",
       "      <th>Operating system</th>\n",
       "      <th>Display Size</th>\n",
       "      <th>Processor</th>\n",
       "    </tr>\n",
       "  </thead>\n",
       "  <tbody>\n",
       "    <tr>\n",
       "      <th>0</th>\n",
       "      <td>Asus ROG Zephyrus G14 GA402XZ-N2019WS</td>\n",
       "      <td>Windows 11 Home</td>\n",
       "      <td>14</td>\n",
       "      <td>7th Gen, AMD Ryzen 9 7940HS</td>\n",
       "    </tr>\n",
       "    <tr>\n",
       "      <th>1</th>\n",
       "      <td>MSI Pulse 17 AI C1VGKG</td>\n",
       "      <td>Windows 11 Home</td>\n",
       "      <td>17</td>\n",
       "      <td>Intel Core Ultra 9</td>\n",
       "    </tr>\n",
       "    <tr>\n",
       "      <th>2</th>\n",
       "      <td>Acer Nitro 16 AN16-41 | Ryzen 7 7840HS | RTX 4...</td>\n",
       "      <td>Windows 11 Home</td>\n",
       "      <td>16</td>\n",
       "      <td>AMD Ryzen 7-7840HS</td>\n",
       "    </tr>\n",
       "    <tr>\n",
       "      <th>3</th>\n",
       "      <td>MSI Bravo 15 C7VFKP</td>\n",
       "      <td>Windows 11 Home</td>\n",
       "      <td>15.6</td>\n",
       "      <td>AMD Ryzen 7-7000HS</td>\n",
       "    </tr>\n",
       "    <tr>\n",
       "      <th>4</th>\n",
       "      <td>ASUS TUF Gaming A16 Advantage Edition (2023) F...</td>\n",
       "      <td>Windows 11 Home</td>\n",
       "      <td>16</td>\n",
       "      <td>AMD Ryzen 9-7940HS</td>\n",
       "    </tr>\n",
       "    <tr>\n",
       "      <th>5</th>\n",
       "      <td>HP OMEN Gaming Laptop 16 XD0007ax</td>\n",
       "      <td>Windows 11 Home</td>\n",
       "      <td>16.1</td>\n",
       "      <td>AMD Ryzen 7-7840HS</td>\n",
       "    </tr>\n",
       "    <tr>\n",
       "      <th>6</th>\n",
       "      <td>Dell New G15 5535</td>\n",
       "      <td>Windows 11 Home</td>\n",
       "      <td>15.6</td>\n",
       "      <td>AMD Ryzen 5-7640HS</td>\n",
       "    </tr>\n",
       "  </tbody>\n",
       "</table>\n",
       "</div>"
      ],
      "text/plain": [
       "                                         Laptop Name Operating system  \\\n",
       "0              Asus ROG Zephyrus G14 GA402XZ-N2019WS  Windows 11 Home   \n",
       "1                             MSI Pulse 17 AI C1VGKG  Windows 11 Home   \n",
       "2  Acer Nitro 16 AN16-41 | Ryzen 7 7840HS | RTX 4...  Windows 11 Home   \n",
       "3                                MSI Bravo 15 C7VFKP  Windows 11 Home   \n",
       "4  ASUS TUF Gaming A16 Advantage Edition (2023) F...  Windows 11 Home   \n",
       "5                  HP OMEN Gaming Laptop 16 XD0007ax  Windows 11 Home   \n",
       "6                                  Dell New G15 5535  Windows 11 Home   \n",
       "\n",
       "  Display Size                    Processor  \n",
       "0           14  7th Gen, AMD Ryzen 9 7940HS  \n",
       "1           17           Intel Core Ultra 9  \n",
       "2           16           AMD Ryzen 7-7840HS  \n",
       "3         15.6           AMD Ryzen 7-7000HS  \n",
       "4           16           AMD Ryzen 9-7940HS  \n",
       "5         16.1           AMD Ryzen 7-7840HS  \n",
       "6         15.6           AMD Ryzen 5-7640HS  "
      ]
     },
     "execution_count": 12,
     "metadata": {},
     "output_type": "execute_result"
    }
   ],
   "source": [
    "df = pd.DataFrame({'Laptop Name':laptop_name, 'Operating system': operating_system, 'Display Size':display_size, 'Processor':Processor})\n",
    "df"
   ]
  },
  {
   "cell_type": "code",
   "execution_count": null,
   "id": "f9c90627",
   "metadata": {},
   "outputs": [],
   "source": []
  },
  {
   "cell_type": "code",
   "execution_count": null,
   "id": "f6e94ca0",
   "metadata": {},
   "outputs": [],
   "source": []
  },
  {
   "cell_type": "markdown",
   "id": "ff4d1007",
   "metadata": {},
   "source": [
    "### Q. 7. Write a python program to scrape the details for all billionaires from www.forbes.com. Details to be scrapped: “Rank”, “Name”, “Net worth”, “Age”, “Citizenship”, “Source”, “Industry”. "
   ]
  },
  {
   "cell_type": "code",
   "execution_count": 1,
   "id": "4ba62fc8",
   "metadata": {},
   "outputs": [
    {
     "name": "stdout",
     "output_type": "stream",
     "text": [
      "Requirement already satisfied: selenium in c:\\users\\hp\\anaconda3\\lib\\site-packages (4.19.0)\n",
      "Requirement already satisfied: urllib3[socks]<3,>=1.26 in c:\\users\\hp\\anaconda3\\lib\\site-packages (from selenium) (1.26.16)\n",
      "Requirement already satisfied: trio~=0.17 in c:\\users\\hp\\anaconda3\\lib\\site-packages (from selenium) (0.25.0)\n",
      "Requirement already satisfied: trio-websocket~=0.9 in c:\\users\\hp\\anaconda3\\lib\\site-packages (from selenium) (0.11.1)\n",
      "Requirement already satisfied: certifi>=2021.10.8 in c:\\users\\hp\\anaconda3\\lib\\site-packages (from selenium) (2023.7.22)\n",
      "Requirement already satisfied: typing_extensions>=4.9.0 in c:\\users\\hp\\anaconda3\\lib\\site-packages (from selenium) (4.10.0)\n",
      "Requirement already satisfied: attrs>=23.2.0 in c:\\users\\hp\\anaconda3\\lib\\site-packages (from trio~=0.17->selenium) (23.2.0)\n",
      "Requirement already satisfied: sortedcontainers in c:\\users\\hp\\anaconda3\\lib\\site-packages (from trio~=0.17->selenium) (2.4.0)\n",
      "Requirement already satisfied: idna in c:\\users\\hp\\anaconda3\\lib\\site-packages (from trio~=0.17->selenium) (3.4)\n",
      "Requirement already satisfied: outcome in c:\\users\\hp\\anaconda3\\lib\\site-packages (from trio~=0.17->selenium) (1.3.0.post0)\n",
      "Requirement already satisfied: sniffio>=1.3.0 in c:\\users\\hp\\anaconda3\\lib\\site-packages (from trio~=0.17->selenium) (1.3.1)\n",
      "Requirement already satisfied: cffi>=1.14 in c:\\users\\hp\\anaconda3\\lib\\site-packages (from trio~=0.17->selenium) (1.15.1)\n",
      "Requirement already satisfied: wsproto>=0.14 in c:\\users\\hp\\anaconda3\\lib\\site-packages (from trio-websocket~=0.9->selenium) (1.2.0)\n",
      "Requirement already satisfied: PySocks!=1.5.7,<2.0,>=1.5.6 in c:\\users\\hp\\anaconda3\\lib\\site-packages (from urllib3[socks]<3,>=1.26->selenium) (1.7.1)\n",
      "Requirement already satisfied: pycparser in c:\\users\\hp\\anaconda3\\lib\\site-packages (from cffi>=1.14->trio~=0.17->selenium) (2.21)\n",
      "Requirement already satisfied: h11<1,>=0.9.0 in c:\\users\\hp\\anaconda3\\lib\\site-packages (from wsproto>=0.14->trio-websocket~=0.9->selenium) (0.14.0)\n"
     ]
    }
   ],
   "source": [
    "!pip install selenium"
   ]
  },
  {
   "cell_type": "code",
   "execution_count": 3,
   "id": "cfccc37b",
   "metadata": {},
   "outputs": [],
   "source": [
    "import selenium\n",
    "import pandas as pd\n",
    "from selenium import webdriver\n",
    "\n",
    "import warnings\n",
    "warnings.filterwarnings('ignore')\n",
    "\n",
    "from selenium.webdriver.common.by import By\n",
    "import time"
   ]
  },
  {
   "cell_type": "code",
   "execution_count": 4,
   "id": "298fcb50",
   "metadata": {},
   "outputs": [],
   "source": [
    "from selenium.common.exceptions import NoSuchElementException\n",
    "from selenium.common.exceptions import StaleElementReferenceException"
   ]
  },
  {
   "cell_type": "code",
   "execution_count": 5,
   "id": "2f49c7f7",
   "metadata": {},
   "outputs": [],
   "source": [
    "driver = webdriver.Chrome()"
   ]
  },
  {
   "cell_type": "code",
   "execution_count": 6,
   "id": "de1f8617",
   "metadata": {},
   "outputs": [],
   "source": [
    "driver.get(\"https://www.forbes.com./\")"
   ]
  },
  {
   "cell_type": "code",
   "execution_count": 7,
   "id": "5b783409",
   "metadata": {},
   "outputs": [],
   "source": [
    "menu_bar = driver.find_element(By.XPATH, '//div[@class=\"_8FT-x3t4\"]')\n",
    "menu_bar.click()"
   ]
  },
  {
   "cell_type": "code",
   "execution_count": 8,
   "id": "159ffac4",
   "metadata": {},
   "outputs": [],
   "source": [
    "billionaires_bar = driver.find_element(By.XPATH, '//li[@class=\"TjJgrPSg cD45ib6e primary\"][1]/div[1]')\n",
    "billionaires_bar.click()"
   ]
  },
  {
   "cell_type": "code",
   "execution_count": 9,
   "id": "f91c154e",
   "metadata": {},
   "outputs": [],
   "source": [
    "all_billionaires = driver.find_element(By.XPATH, '/html/body/div[1]/div/main/div[2]/section/div[2]/div/div/div[1]/div/div[2]/div/div/a/h2')\n",
    "all_billionaires.click()"
   ]
  },
  {
   "cell_type": "code",
   "execution_count": 10,
   "id": "7b357b43",
   "metadata": {},
   "outputs": [],
   "source": [
    "RANK = []\n",
    "NAME = []\n",
    "NET_WORTH = []\n",
    "AGE = []\n",
    "COUNTRY_TERRITORY = []\n",
    "SOURCE = []\n",
    "INDUSTRY = []"
   ]
  },
  {
   "cell_type": "code",
   "execution_count": 11,
   "id": "56192191",
   "metadata": {},
   "outputs": [],
   "source": [
    "rank_details = driver.find_elements(By.XPATH, '//div[@class=\"Table_rank__X4MKf\"]/div')\n",
    "for i in rank_details:\n",
    "    RANK.append(i.text)\n",
    "    \n",
    "    \n",
    "    \n",
    "name_details = driver.find_elements(By.XPATH, '//div[@class=\"Table_personName__Bus2E\"]')\n",
    "for j in name_details:\n",
    "    NAME.append(j.text)\n",
    "    \n",
    "    \n",
    "net_details = driver.find_elements(By.XPATH, '//div[@class=\"Table_finalWorth__UZA6k\"]/span')\n",
    "for q in net_details:\n",
    "    NET_WORTH.append(q.text)\n",
    "    \n",
    "    \n",
    "age = driver.find_elements(By.XPATH, '//div[@class=\"Table_tableBody__WyYMK\"]/div/div/div[4]')\n",
    "for p in age:\n",
    "    AGE.append(p.text)\n",
    "    \n",
    "    \n",
    "    \n",
    "country = driver.find_elements(By.XPATH, '//div[@class=\"Table_tableBody__WyYMK\"]/div/div/div[5]')\n",
    "for r in country:\n",
    "    COUNTRY_TERRITORY.append(r.text)\n",
    "    \n",
    "    \n",
    "    \n",
    "source_details = driver.find_elements(By.XPATH, '//div[@class=\"Table_tableBody__WyYMK\"]/div/div/div[6]')\n",
    "for s in source_details:\n",
    "    SOURCE.append(s.text)\n",
    "    \n",
    "    \n",
    "industry_details = driver.find_elements(By.XPATH, '//div[@class=\"Table_tableBody__WyYMK\"]/div/div/div[7]')\n",
    "for x in industry_details:\n",
    "    INDUSTRY.append(x.text)"
   ]
  },
  {
   "cell_type": "code",
   "execution_count": 12,
   "id": "d17e7a6d",
   "metadata": {},
   "outputs": [
    {
     "name": "stdout",
     "output_type": "stream",
     "text": [
      "200\n",
      "200\n",
      "200\n",
      "200\n",
      "200\n",
      "200\n",
      "200\n"
     ]
    }
   ],
   "source": [
    "print(len(RANK))\n",
    "print(len(NAME))\n",
    "print(len(NET_WORTH))\n",
    "print(len(AGE))\n",
    "print(len(COUNTRY_TERRITORY))\n",
    "print(len(SOURCE))\n",
    "print(len(INDUSTRY))"
   ]
  },
  {
   "cell_type": "code",
   "execution_count": 14,
   "id": "ed39ac75",
   "metadata": {},
   "outputs": [
    {
     "data": {
      "text/html": [
       "<div>\n",
       "<style scoped>\n",
       "    .dataframe tbody tr th:only-of-type {\n",
       "        vertical-align: middle;\n",
       "    }\n",
       "\n",
       "    .dataframe tbody tr th {\n",
       "        vertical-align: top;\n",
       "    }\n",
       "\n",
       "    .dataframe thead th {\n",
       "        text-align: right;\n",
       "    }\n",
       "</style>\n",
       "<table border=\"1\" class=\"dataframe\">\n",
       "  <thead>\n",
       "    <tr style=\"text-align: right;\">\n",
       "      <th></th>\n",
       "      <th>RANK</th>\n",
       "      <th>NAME</th>\n",
       "      <th>NET WORTH</th>\n",
       "      <th>AGE</th>\n",
       "      <th>COUNTRY / TERRITORY</th>\n",
       "      <th>SOURCE</th>\n",
       "      <th>INDUSTRY</th>\n",
       "    </tr>\n",
       "  </thead>\n",
       "  <tbody>\n",
       "    <tr>\n",
       "      <th>0</th>\n",
       "      <td>1.</td>\n",
       "      <td>Bernard Arnault &amp; family</td>\n",
       "      <td>$233 B</td>\n",
       "      <td>75</td>\n",
       "      <td>France</td>\n",
       "      <td>LVMH</td>\n",
       "      <td>Fashion &amp; Retail</td>\n",
       "    </tr>\n",
       "    <tr>\n",
       "      <th>1</th>\n",
       "      <td>2.</td>\n",
       "      <td>Elon Musk</td>\n",
       "      <td>$195 B</td>\n",
       "      <td>52</td>\n",
       "      <td>United States</td>\n",
       "      <td>Tesla, SpaceX</td>\n",
       "      <td>Automotive</td>\n",
       "    </tr>\n",
       "    <tr>\n",
       "      <th>2</th>\n",
       "      <td>3.</td>\n",
       "      <td>Jeff Bezos</td>\n",
       "      <td>$194 B</td>\n",
       "      <td>60</td>\n",
       "      <td>United States</td>\n",
       "      <td>Amazon</td>\n",
       "      <td>Technology</td>\n",
       "    </tr>\n",
       "    <tr>\n",
       "      <th>3</th>\n",
       "      <td>4.</td>\n",
       "      <td>Mark Zuckerberg</td>\n",
       "      <td>$177 B</td>\n",
       "      <td>39</td>\n",
       "      <td>United States</td>\n",
       "      <td>Facebook</td>\n",
       "      <td>Technology</td>\n",
       "    </tr>\n",
       "    <tr>\n",
       "      <th>4</th>\n",
       "      <td>5.</td>\n",
       "      <td>Larry Ellison</td>\n",
       "      <td>$141 B</td>\n",
       "      <td>79</td>\n",
       "      <td>United States</td>\n",
       "      <td>Oracle</td>\n",
       "      <td>Technology</td>\n",
       "    </tr>\n",
       "    <tr>\n",
       "      <th>...</th>\n",
       "      <td>...</td>\n",
       "      <td>...</td>\n",
       "      <td>...</td>\n",
       "      <td>...</td>\n",
       "      <td>...</td>\n",
       "      <td>...</td>\n",
       "      <td>...</td>\n",
       "    </tr>\n",
       "    <tr>\n",
       "      <th>195</th>\n",
       "      <td>195.</td>\n",
       "      <td>Lei Jun</td>\n",
       "      <td>$10.9 B</td>\n",
       "      <td>54</td>\n",
       "      <td>China</td>\n",
       "      <td>Smartphones</td>\n",
       "      <td>Technology</td>\n",
       "    </tr>\n",
       "    <tr>\n",
       "      <th>196</th>\n",
       "      <td>195.</td>\n",
       "      <td>Georg Schaeffler</td>\n",
       "      <td>$10.9 B</td>\n",
       "      <td>59</td>\n",
       "      <td>Germany</td>\n",
       "      <td>Auto parts</td>\n",
       "      <td>Automotive</td>\n",
       "    </tr>\n",
       "    <tr>\n",
       "      <th>197</th>\n",
       "      <td>195.</td>\n",
       "      <td>Marcel Herrmann Telles &amp; family</td>\n",
       "      <td>$10.9 B</td>\n",
       "      <td>74</td>\n",
       "      <td>Brazil</td>\n",
       "      <td>Beer</td>\n",
       "      <td>Food &amp; Beverage</td>\n",
       "    </tr>\n",
       "    <tr>\n",
       "      <th>198</th>\n",
       "      <td>199.</td>\n",
       "      <td>David Velez &amp; family</td>\n",
       "      <td>$10.8 B</td>\n",
       "      <td>42</td>\n",
       "      <td>Colombia</td>\n",
       "      <td>Fintech</td>\n",
       "      <td>Finance &amp; Investments</td>\n",
       "    </tr>\n",
       "    <tr>\n",
       "      <th>199</th>\n",
       "      <td>200.</td>\n",
       "      <td>Suleiman Kerimov &amp; family</td>\n",
       "      <td>$10.7 B</td>\n",
       "      <td>58</td>\n",
       "      <td>Russia</td>\n",
       "      <td>Gold</td>\n",
       "      <td>Finance &amp; Investments</td>\n",
       "    </tr>\n",
       "  </tbody>\n",
       "</table>\n",
       "<p>200 rows × 7 columns</p>\n",
       "</div>"
      ],
      "text/plain": [
       "     RANK                             NAME NET WORTH AGE COUNTRY / TERRITORY  \\\n",
       "0      1.         Bernard Arnault & family    $233 B  75              France   \n",
       "1      2.                        Elon Musk    $195 B  52       United States   \n",
       "2      3.                       Jeff Bezos    $194 B  60       United States   \n",
       "3      4.                  Mark Zuckerberg    $177 B  39       United States   \n",
       "4      5.                    Larry Ellison    $141 B  79       United States   \n",
       "..    ...                              ...       ...  ..                 ...   \n",
       "195  195.                          Lei Jun   $10.9 B  54               China   \n",
       "196  195.                 Georg Schaeffler   $10.9 B  59             Germany   \n",
       "197  195.  Marcel Herrmann Telles & family   $10.9 B  74              Brazil   \n",
       "198  199.             David Velez & family   $10.8 B  42            Colombia   \n",
       "199  200.        Suleiman Kerimov & family   $10.7 B  58              Russia   \n",
       "\n",
       "            SOURCE               INDUSTRY  \n",
       "0             LVMH       Fashion & Retail  \n",
       "1    Tesla, SpaceX             Automotive  \n",
       "2           Amazon             Technology  \n",
       "3         Facebook             Technology  \n",
       "4           Oracle             Technology  \n",
       "..             ...                    ...  \n",
       "195    Smartphones             Technology  \n",
       "196     Auto parts             Automotive  \n",
       "197           Beer        Food & Beverage  \n",
       "198        Fintech  Finance & Investments  \n",
       "199           Gold  Finance & Investments  \n",
       "\n",
       "[200 rows x 7 columns]"
      ]
     },
     "execution_count": 14,
     "metadata": {},
     "output_type": "execute_result"
    }
   ],
   "source": [
    "df = pd.DataFrame({'RANK':RANK, 'NAME': NAME, 'NET WORTH':NET_WORTH, \n",
    "                   'AGE':AGE,'COUNTRY / TERRITORY': COUNTRY_TERRITORY, \n",
    "                   'SOURCE': SOURCE, 'INDUSTRY': INDUSTRY})\n",
    "df"
   ]
  },
  {
   "cell_type": "code",
   "execution_count": null,
   "id": "7dc74fce",
   "metadata": {},
   "outputs": [],
   "source": []
  },
  {
   "cell_type": "code",
   "execution_count": null,
   "id": "4abf0732",
   "metadata": {},
   "outputs": [],
   "source": []
  },
  {
   "cell_type": "markdown",
   "id": "b019af3e",
   "metadata": {},
   "source": [
    "### Q.8. Write a program to extract at least 500 Comments, Comment upvote and time when comment was posted from any YouTube Video. "
   ]
  },
  {
   "cell_type": "code",
   "execution_count": 1,
   "id": "23c7c7f4",
   "metadata": {},
   "outputs": [
    {
     "name": "stdout",
     "output_type": "stream",
     "text": [
      "Requirement already satisfied: selenium in c:\\users\\hp\\anaconda3\\lib\\site-packages (4.19.0)\n",
      "Requirement already satisfied: urllib3[socks]<3,>=1.26 in c:\\users\\hp\\anaconda3\\lib\\site-packages (from selenium) (1.26.16)\n",
      "Requirement already satisfied: trio~=0.17 in c:\\users\\hp\\anaconda3\\lib\\site-packages (from selenium) (0.25.0)\n",
      "Requirement already satisfied: trio-websocket~=0.9 in c:\\users\\hp\\anaconda3\\lib\\site-packages (from selenium) (0.11.1)\n",
      "Requirement already satisfied: certifi>=2021.10.8 in c:\\users\\hp\\anaconda3\\lib\\site-packages (from selenium) (2023.7.22)\n",
      "Requirement already satisfied: typing_extensions>=4.9.0 in c:\\users\\hp\\anaconda3\\lib\\site-packages (from selenium) (4.10.0)\n",
      "Requirement already satisfied: attrs>=23.2.0 in c:\\users\\hp\\anaconda3\\lib\\site-packages (from trio~=0.17->selenium) (23.2.0)\n",
      "Requirement already satisfied: sortedcontainers in c:\\users\\hp\\anaconda3\\lib\\site-packages (from trio~=0.17->selenium) (2.4.0)\n",
      "Requirement already satisfied: idna in c:\\users\\hp\\anaconda3\\lib\\site-packages (from trio~=0.17->selenium) (3.4)\n",
      "Requirement already satisfied: outcome in c:\\users\\hp\\anaconda3\\lib\\site-packages (from trio~=0.17->selenium) (1.3.0.post0)\n",
      "Requirement already satisfied: sniffio>=1.3.0 in c:\\users\\hp\\anaconda3\\lib\\site-packages (from trio~=0.17->selenium) (1.3.1)\n",
      "Requirement already satisfied: cffi>=1.14 in c:\\users\\hp\\anaconda3\\lib\\site-packages (from trio~=0.17->selenium) (1.15.1)\n",
      "Requirement already satisfied: wsproto>=0.14 in c:\\users\\hp\\anaconda3\\lib\\site-packages (from trio-websocket~=0.9->selenium) (1.2.0)\n",
      "Requirement already satisfied: PySocks!=1.5.7,<2.0,>=1.5.6 in c:\\users\\hp\\anaconda3\\lib\\site-packages (from urllib3[socks]<3,>=1.26->selenium) (1.7.1)\n",
      "Requirement already satisfied: pycparser in c:\\users\\hp\\anaconda3\\lib\\site-packages (from cffi>=1.14->trio~=0.17->selenium) (2.21)\n",
      "Requirement already satisfied: h11<1,>=0.9.0 in c:\\users\\hp\\anaconda3\\lib\\site-packages (from wsproto>=0.14->trio-websocket~=0.9->selenium) (0.14.0)\n"
     ]
    }
   ],
   "source": [
    "!pip install selenium"
   ]
  },
  {
   "cell_type": "code",
   "execution_count": 2,
   "id": "a7e1d96f",
   "metadata": {},
   "outputs": [],
   "source": [
    "import selenium\n",
    "import pandas as pd\n",
    "from selenium import webdriver\n",
    "\n",
    "import warnings\n",
    "warnings.filterwarnings('ignore')\n",
    "\n",
    "from selenium.webdriver.common.by import By\n",
    "import time"
   ]
  },
  {
   "cell_type": "code",
   "execution_count": 64,
   "id": "d715f9d5",
   "metadata": {},
   "outputs": [],
   "source": [
    "driver = webdriver.Chrome()"
   ]
  },
  {
   "cell_type": "code",
   "execution_count": 65,
   "id": "5e327c4e",
   "metadata": {},
   "outputs": [],
   "source": [
    "driver.get(\"https://www.youtube.com/watch?v=xVZX7qdoVE0\")"
   ]
  },
  {
   "cell_type": "code",
   "execution_count": 66,
   "id": "1f340812",
   "metadata": {},
   "outputs": [],
   "source": [
    "id_ = []\n",
    "comments = []\n",
    "comment_upvote = []\n",
    "time = []"
   ]
  },
  {
   "cell_type": "code",
   "execution_count": 67,
   "id": "32f52c0f",
   "metadata": {},
   "outputs": [],
   "source": []
  },
  {
   "cell_type": "code",
   "execution_count": 82,
   "id": "3355c851",
   "metadata": {},
   "outputs": [],
   "source": [
    "for _ in range(10):\n",
    "     driver.execute_script(\"window.scrollBy(0,500)\")\n",
    "\n",
    "\n",
    "#for i in driver.find_elements(By.XPATH, '//span[@class=\" style-scope ytd-comment-view-model style-scope ytd-comment-view-model\"]'):\n",
    "        #id_.append(i.text)\n",
    "    \n",
    "    \n",
    "\n",
    "    \n",
    "for j in driver.find_elements(By.XPATH, '//div[@class=\"style-scope ytd-expander\"]/yt-attributed-string'):\n",
    "        comments.append(j.text)\n",
    "    \n",
    "    \n",
    "    \n",
    "for p in driver.find_elements(By.XPATH, '//span[@class=\"style-scope ytd-comment-engagement-bar\"]'):\n",
    "        comment_upvote.append(p.text)\n",
    "    \n",
    "    \n",
    "\n",
    "    \n",
    "for q in driver.find_elements(By.XPATH, '//span[@class=\"style-scope ytd-comment-view-model\"]/a'):\n",
    "        time.append(q.text)\n",
    "    \n"
   ]
  },
  {
   "cell_type": "code",
   "execution_count": 83,
   "id": "02199479",
   "metadata": {},
   "outputs": [
    {
     "name": "stdout",
     "output_type": "stream",
     "text": [
      "460\n",
      "480\n",
      "480\n",
      "480\n"
     ]
    }
   ],
   "source": [
    "#print(len(id_))\n",
    "print(len(comments))\n",
    "print(len(comment_upvote))\n",
    "print(len(time))"
   ]
  },
  {
   "cell_type": "code",
   "execution_count": 84,
   "id": "3f9dc042",
   "metadata": {},
   "outputs": [
    {
     "data": {
      "text/html": [
       "<div>\n",
       "<style scoped>\n",
       "    .dataframe tbody tr th:only-of-type {\n",
       "        vertical-align: middle;\n",
       "    }\n",
       "\n",
       "    .dataframe tbody tr th {\n",
       "        vertical-align: top;\n",
       "    }\n",
       "\n",
       "    .dataframe thead th {\n",
       "        text-align: right;\n",
       "    }\n",
       "</style>\n",
       "<table border=\"1\" class=\"dataframe\">\n",
       "  <thead>\n",
       "    <tr style=\"text-align: right;\">\n",
       "      <th></th>\n",
       "      <th>COMMENTS</th>\n",
       "      <th>COMMENT UPVOTE</th>\n",
       "      <th>TIME</th>\n",
       "    </tr>\n",
       "  </thead>\n",
       "  <tbody>\n",
       "    <tr>\n",
       "      <th>0</th>\n",
       "      <td>So simple , down to earth ...\\n\\nYour videos w...</td>\n",
       "      <td>20</td>\n",
       "      <td>11 months ago</td>\n",
       "    </tr>\n",
       "    <tr>\n",
       "      <th>1</th>\n",
       "      <td>The only thing i watched in your content that ...</td>\n",
       "      <td>27</td>\n",
       "      <td>11 months ago</td>\n",
       "    </tr>\n",
       "    <tr>\n",
       "      <th>2</th>\n",
       "      <td>Simply love the simplecity of your Maam .This ...</td>\n",
       "      <td>16</td>\n",
       "      <td>11 months ago</td>\n",
       "    </tr>\n",
       "    <tr>\n",
       "      <th>3</th>\n",
       "      <td>Good to see that now we have good people influ...</td>\n",
       "      <td>22</td>\n",
       "      <td>11 months ago</td>\n",
       "    </tr>\n",
       "    <tr>\n",
       "      <th>4</th>\n",
       "      <td>You are a good human being humble and down to ...</td>\n",
       "      <td>6</td>\n",
       "      <td>11 months ago</td>\n",
       "    </tr>\n",
       "    <tr>\n",
       "      <th>...</th>\n",
       "      <td>...</td>\n",
       "      <td>...</td>\n",
       "      <td>...</td>\n",
       "    </tr>\n",
       "    <tr>\n",
       "      <th>475</th>\n",
       "      <td>I love simplicity like you 🫰</td>\n",
       "      <td>7</td>\n",
       "      <td>1 year ago</td>\n",
       "    </tr>\n",
       "    <tr>\n",
       "      <th>476</th>\n",
       "      <td>So nice home mam and you so polite outstanding...</td>\n",
       "      <td></td>\n",
       "      <td>2 days ago</td>\n",
       "    </tr>\n",
       "    <tr>\n",
       "      <th>477</th>\n",
       "      <td>Nice video\\nKeep uploading</td>\n",
       "      <td>1</td>\n",
       "      <td>11 months ago</td>\n",
       "    </tr>\n",
       "    <tr>\n",
       "      <th>478</th>\n",
       "      <td>That elephants are really cute... From where y...</td>\n",
       "      <td>1</td>\n",
       "      <td>11 months ago</td>\n",
       "    </tr>\n",
       "    <tr>\n",
       "      <th>479</th>\n",
       "      <td>Simple humble home video.</td>\n",
       "      <td>1</td>\n",
       "      <td>11 months ago</td>\n",
       "    </tr>\n",
       "  </tbody>\n",
       "</table>\n",
       "<p>480 rows × 3 columns</p>\n",
       "</div>"
      ],
      "text/plain": [
       "                                              COMMENTS COMMENT UPVOTE  \\\n",
       "0    So simple , down to earth ...\\n\\nYour videos w...             20   \n",
       "1    The only thing i watched in your content that ...             27   \n",
       "2    Simply love the simplecity of your Maam .This ...             16   \n",
       "3    Good to see that now we have good people influ...             22   \n",
       "4    You are a good human being humble and down to ...              6   \n",
       "..                                                 ...            ...   \n",
       "475                       I love simplicity like you 🫰              7   \n",
       "476  So nice home mam and you so polite outstanding...                  \n",
       "477                        Nice video\\nKeep uploading               1   \n",
       "478  That elephants are really cute... From where y...              1   \n",
       "479                          Simple humble home video.              1   \n",
       "\n",
       "              TIME  \n",
       "0    11 months ago  \n",
       "1    11 months ago  \n",
       "2    11 months ago  \n",
       "3    11 months ago  \n",
       "4    11 months ago  \n",
       "..             ...  \n",
       "475     1 year ago  \n",
       "476     2 days ago  \n",
       "477  11 months ago  \n",
       "478  11 months ago  \n",
       "479  11 months ago  \n",
       "\n",
       "[480 rows x 3 columns]"
      ]
     },
     "execution_count": 84,
     "metadata": {},
     "output_type": "execute_result"
    }
   ],
   "source": [
    "df = pd.DataFrame({'COMMENTS': comments, 'COMMENT UPVOTE':comment_upvote, \n",
    "                   'TIME':time,})\n",
    "df"
   ]
  },
  {
   "cell_type": "code",
   "execution_count": null,
   "id": "f34e5a99",
   "metadata": {},
   "outputs": [],
   "source": []
  },
  {
   "cell_type": "markdown",
   "id": "4bce1988",
   "metadata": {},
   "source": [
    "### 9. Write a python program to scrape a data for all available Hostels from https://www.hostelworld.com/ in “London” location. You have to scrape hostel name, distance from city centre, ratings, total reviews, overall reviews, privates from price, dorms from price, facilities and property description. "
   ]
  },
  {
   "cell_type": "code",
   "execution_count": 1,
   "id": "60e8919f",
   "metadata": {},
   "outputs": [
    {
     "name": "stdout",
     "output_type": "stream",
     "text": [
      "Requirement already satisfied: selenium in c:\\users\\hp\\anaconda3\\lib\\site-packages (4.19.0)\n",
      "Requirement already satisfied: urllib3[socks]<3,>=1.26 in c:\\users\\hp\\anaconda3\\lib\\site-packages (from selenium) (1.26.16)\n",
      "Requirement already satisfied: trio~=0.17 in c:\\users\\hp\\anaconda3\\lib\\site-packages (from selenium) (0.25.0)\n",
      "Requirement already satisfied: trio-websocket~=0.9 in c:\\users\\hp\\anaconda3\\lib\\site-packages (from selenium) (0.11.1)\n",
      "Requirement already satisfied: certifi>=2021.10.8 in c:\\users\\hp\\anaconda3\\lib\\site-packages (from selenium) (2023.7.22)\n",
      "Requirement already satisfied: typing_extensions>=4.9.0 in c:\\users\\hp\\anaconda3\\lib\\site-packages (from selenium) (4.10.0)\n",
      "Requirement already satisfied: attrs>=23.2.0 in c:\\users\\hp\\anaconda3\\lib\\site-packages (from trio~=0.17->selenium) (23.2.0)\n",
      "Requirement already satisfied: sortedcontainers in c:\\users\\hp\\anaconda3\\lib\\site-packages (from trio~=0.17->selenium) (2.4.0)\n",
      "Requirement already satisfied: idna in c:\\users\\hp\\anaconda3\\lib\\site-packages (from trio~=0.17->selenium) (3.4)\n",
      "Requirement already satisfied: outcome in c:\\users\\hp\\anaconda3\\lib\\site-packages (from trio~=0.17->selenium) (1.3.0.post0)\n",
      "Requirement already satisfied: sniffio>=1.3.0 in c:\\users\\hp\\anaconda3\\lib\\site-packages (from trio~=0.17->selenium) (1.3.1)\n",
      "Requirement already satisfied: cffi>=1.14 in c:\\users\\hp\\anaconda3\\lib\\site-packages (from trio~=0.17->selenium) (1.15.1)\n",
      "Requirement already satisfied: wsproto>=0.14 in c:\\users\\hp\\anaconda3\\lib\\site-packages (from trio-websocket~=0.9->selenium) (1.2.0)\n",
      "Requirement already satisfied: PySocks!=1.5.7,<2.0,>=1.5.6 in c:\\users\\hp\\anaconda3\\lib\\site-packages (from urllib3[socks]<3,>=1.26->selenium) (1.7.1)\n",
      "Requirement already satisfied: pycparser in c:\\users\\hp\\anaconda3\\lib\\site-packages (from cffi>=1.14->trio~=0.17->selenium) (2.21)\n",
      "Requirement already satisfied: h11<1,>=0.9.0 in c:\\users\\hp\\anaconda3\\lib\\site-packages (from wsproto>=0.14->trio-websocket~=0.9->selenium) (0.14.0)\n"
     ]
    }
   ],
   "source": [
    "!pip install selenium"
   ]
  },
  {
   "cell_type": "code",
   "execution_count": 2,
   "id": "5cb51804",
   "metadata": {},
   "outputs": [],
   "source": [
    "import selenium\n",
    "import pandas as pd\n",
    "from selenium import webdriver\n",
    "\n",
    "import warnings\n",
    "warnings.filterwarnings('ignore')\n",
    "\n",
    "from selenium.webdriver.common.by import By\n",
    "import time"
   ]
  },
  {
   "cell_type": "code",
   "execution_count": 3,
   "id": "fadd1cc5",
   "metadata": {},
   "outputs": [],
   "source": [
    "driver = webdriver.Chrome()"
   ]
  },
  {
   "cell_type": "code",
   "execution_count": 4,
   "id": "fcbb5f00",
   "metadata": {},
   "outputs": [],
   "source": [
    "driver.get(\"https://www.hostelworld.com/\")"
   ]
  },
  {
   "cell_type": "code",
   "execution_count": 5,
   "id": "8f9fca11",
   "metadata": {},
   "outputs": [],
   "source": [
    "location = driver.find_element(By.XPATH, '/html/body/div[3]/div/div[2]/main/header/div/div[2]/div[1]/div[1]/div/div[1]/div[1]/div/div[2]/input')\n",
    "location.send_keys('London')"
   ]
  },
  {
   "cell_type": "code",
   "execution_count": 6,
   "id": "bc940e62",
   "metadata": {},
   "outputs": [],
   "source": [
    "location_type = driver.find_element(By.XPATH, '/html/body/div[3]/div/div[2]/main/header/div/div[2]/div[1]/div[1]/div/div[1]/div[2]/div/ul/li[2]/button')\n",
    "location_type.click()"
   ]
  },
  {
   "cell_type": "code",
   "execution_count": 8,
   "id": "89c97f15",
   "metadata": {},
   "outputs": [],
   "source": [
    "search = driver.find_element(By.XPATH, '//button[@class=\"medium-button btn-content icon-only\"]')\n",
    "search.click()"
   ]
  },
  {
   "cell_type": "code",
   "execution_count": 9,
   "id": "79d18e3d",
   "metadata": {},
   "outputs": [],
   "source": [
    "Hostel_name = []\n",
    "distance = []\n",
    "ratings =[]\n",
    "total_reviews = []\n",
    "overall_reviews = []\n",
    "private_from_price = []\n",
    "dorms_from_price = []\n",
    "facilities = []\n",
    "property_description = []"
   ]
  },
  {
   "cell_type": "code",
   "execution_count": 10,
   "id": "955c6a62",
   "metadata": {},
   "outputs": [],
   "source": [
    "name = driver.find_elements(By.XPATH, '//div[@class=\"property-name\"]/span')\n",
    "for i in name:\n",
    "    Hostel_name.append(i.text)\n",
    "    \n",
    "    \n",
    "dist = driver.find_elements(By.XPATH, '//span[@class=\"distance-description\"]')\n",
    "for j in dist:\n",
    "    distance.append(j.text)\n",
    "    \n",
    "    \n",
    "rating = driver.find_elements(By.XPATH, '//span[@class=\"number\"]')\n",
    "for a in rating:\n",
    "    ratings.append(a.text)\n",
    "    \n",
    "    \n",
    "review = driver.find_elements(By.XPATH, '//span[@class=\"left-margin\"]')\n",
    "for b in review:\n",
    "    total_reviews.append(b.text)\n",
    "    \n",
    "    \n",
    "overall_revies = driver.find_elements(By.XPATH, '//span[@class=\"keyword\"]')\n",
    "for c in overall_revies:\n",
    "    overall_reviews.append(c.text)\n",
    "\n",
    "    \n",
    "private_from_prices = driver.find_elements(By.XPATH, '//strong[@class=\"current\"]')   # data not separated from private & dorms\n",
    "for d in private_from_prices:\n",
    "    private_from_price.append(d.text)\n",
    "    \n",
    "    \n",
    "dorms_from_prices = driver.find_elements(By.XPATH, '//strong[@class=\"current\"]')   # data not separated from private & dorms\n",
    "for e in dorms_from_prices:\n",
    "    dorms_from_price.append(e.text)  "
   ]
  },
  {
   "cell_type": "code",
   "execution_count": 11,
   "id": "1eba8123",
   "metadata": {},
   "outputs": [
    {
     "data": {
      "text/plain": [
       "[\"https://www.hostelworld.com/pwa/hosteldetails.php/Wombat's%20City%20Hostel%20London/London/88047?from=2024-04-28&to=2024-05-01&guests=2\",\n",
       " 'https://www.hostelworld.com/pwa/hosteldetails.php/Palmers%20Lodge%20-%20Swiss%20Cottage/London/14348?from=2024-04-28&to=2024-05-01&guests=2']"
      ]
     },
     "execution_count": 11,
     "metadata": {},
     "output_type": "execute_result"
    }
   ],
   "source": [
    "urls=[]\n",
    "\n",
    "page_urls = driver.find_elements(By.XPATH, '//a[@class=\"property-card-container horizontal\"]')\n",
    "\n",
    "for url in page_urls:\n",
    "    url = url.get_attribute('href')\n",
    "    if url[0:4] == 'http':\n",
    "        urls.append(url)\n",
    "        \n",
    "urls[0:2]"
   ]
  },
  {
   "cell_type": "code",
   "execution_count": 12,
   "id": "3bcad429",
   "metadata": {},
   "outputs": [],
   "source": [
    "facilities_ = driver.find_elements(By.XPATH, '//ul[@class=\"facility-sections\"]')\n",
    "for f in facilities_:\n",
    "    facilities.append(f.text) \n",
    "    \n",
    "    \n",
    "property_details = driver.find_elements(By.XPATH, '/html/body/div[3]/div/div/div[2]/section/div[10]/div/div[2]/div[6]/div')\n",
    "for g in property_details:\n",
    "    property_description.append(g.text)"
   ]
  },
  {
   "cell_type": "code",
   "execution_count": 13,
   "id": "cc79ed06",
   "metadata": {},
   "outputs": [
    {
     "name": "stdout",
     "output_type": "stream",
     "text": [
      "30\n",
      "30\n",
      "32\n",
      "30\n",
      "32\n",
      "42\n",
      "42\n",
      "0\n",
      "0\n"
     ]
    }
   ],
   "source": [
    "print(len(Hostel_name))\n",
    "print(len(distance))\n",
    "print(len(ratings))\n",
    "print(len(total_reviews))\n",
    "print(len(overall_reviews))\n",
    "print(len(private_from_price))\n",
    "print(len(dorms_from_price))\n",
    "print(len(facilities))\n",
    "print(len(property_description))"
   ]
  },
  {
   "cell_type": "code",
   "execution_count": 14,
   "id": "724f2632",
   "metadata": {},
   "outputs": [
    {
     "data": {
      "text/html": [
       "<div>\n",
       "<style scoped>\n",
       "    .dataframe tbody tr th:only-of-type {\n",
       "        vertical-align: middle;\n",
       "    }\n",
       "\n",
       "    .dataframe tbody tr th {\n",
       "        vertical-align: top;\n",
       "    }\n",
       "\n",
       "    .dataframe thead th {\n",
       "        text-align: right;\n",
       "    }\n",
       "</style>\n",
       "<table border=\"1\" class=\"dataframe\">\n",
       "  <thead>\n",
       "    <tr style=\"text-align: right;\">\n",
       "      <th></th>\n",
       "      <th>Hostel name</th>\n",
       "      <th>distance</th>\n",
       "      <th>totalreviews</th>\n",
       "    </tr>\n",
       "  </thead>\n",
       "  <tbody>\n",
       "    <tr>\n",
       "      <th>0</th>\n",
       "      <td>Wombat's City Hostel London</td>\n",
       "      <td>- 3.6km from city centre</td>\n",
       "      <td>(16293)</td>\n",
       "    </tr>\n",
       "    <tr>\n",
       "      <th>1</th>\n",
       "      <td>Palmers Lodge - Swiss Cottage</td>\n",
       "      <td>- 6.5km from city centre</td>\n",
       "      <td>(16113)</td>\n",
       "    </tr>\n",
       "    <tr>\n",
       "      <th>2</th>\n",
       "      <td>NX London Hostel</td>\n",
       "      <td>- 6.1km from city centre</td>\n",
       "      <td>(2311)</td>\n",
       "    </tr>\n",
       "    <tr>\n",
       "      <th>3</th>\n",
       "      <td>Urbany Hostel London</td>\n",
       "      <td>- 5.4km from city centre</td>\n",
       "      <td>(1211)</td>\n",
       "    </tr>\n",
       "    <tr>\n",
       "      <th>4</th>\n",
       "      <td>Onefam Notting Hill</td>\n",
       "      <td>- 5.5km from city centre</td>\n",
       "      <td>(2753)</td>\n",
       "    </tr>\n",
       "    <tr>\n",
       "      <th>5</th>\n",
       "      <td>Onefam Waterloo</td>\n",
       "      <td>- 0.7km from city centre</td>\n",
       "      <td>(279)</td>\n",
       "    </tr>\n",
       "    <tr>\n",
       "      <th>6</th>\n",
       "      <td>Generator London</td>\n",
       "      <td>- 3km from city centre</td>\n",
       "      <td>(8189)</td>\n",
       "    </tr>\n",
       "    <tr>\n",
       "      <th>7</th>\n",
       "      <td>St Christopher's Village</td>\n",
       "      <td>- 1.8km from city centre</td>\n",
       "      <td>(13016)</td>\n",
       "    </tr>\n",
       "    <tr>\n",
       "      <th>8</th>\n",
       "      <td>Clink261</td>\n",
       "      <td>- 3.2km from city centre</td>\n",
       "      <td>(599)</td>\n",
       "    </tr>\n",
       "    <tr>\n",
       "      <th>9</th>\n",
       "      <td>Safestay London Elephant &amp; Castle</td>\n",
       "      <td>- 1.7km from city centre</td>\n",
       "      <td>(5323)</td>\n",
       "    </tr>\n",
       "    <tr>\n",
       "      <th>10</th>\n",
       "      <td>No.8 Seven Sisters</td>\n",
       "      <td>- 9km from city centre</td>\n",
       "      <td>(4236)</td>\n",
       "    </tr>\n",
       "    <tr>\n",
       "      <th>11</th>\n",
       "      <td>No.8 Willesden Hostel London</td>\n",
       "      <td>- 10km from city centre</td>\n",
       "      <td>(5251)</td>\n",
       "    </tr>\n",
       "    <tr>\n",
       "      <th>12</th>\n",
       "      <td>Smart Russell Square Hostel</td>\n",
       "      <td>- 2.6km from city centre</td>\n",
       "      <td>(10261)</td>\n",
       "    </tr>\n",
       "    <tr>\n",
       "      <th>13</th>\n",
       "      <td>Astor Hyde Park</td>\n",
       "      <td>- 4.3km from city centre</td>\n",
       "      <td>(12379)</td>\n",
       "    </tr>\n",
       "    <tr>\n",
       "      <th>14</th>\n",
       "      <td>Astor Museum Inn</td>\n",
       "      <td>- 2.2km from city centre</td>\n",
       "      <td>(9494)</td>\n",
       "    </tr>\n",
       "    <tr>\n",
       "      <th>15</th>\n",
       "      <td>Destinations Hostels @ The Gallery</td>\n",
       "      <td>- 1.7km from city centre</td>\n",
       "      <td>(357)</td>\n",
       "    </tr>\n",
       "    <tr>\n",
       "      <th>16</th>\n",
       "      <td>Queen Elizabeth Chelsea</td>\n",
       "      <td>- 5.7km from city centre</td>\n",
       "      <td>(3763)</td>\n",
       "    </tr>\n",
       "    <tr>\n",
       "      <th>17</th>\n",
       "      <td>Safestay London Kensington Holland Park</td>\n",
       "      <td>- 5.8km from city centre</td>\n",
       "      <td>(1847)</td>\n",
       "    </tr>\n",
       "    <tr>\n",
       "      <th>18</th>\n",
       "      <td>The Walrus Hostel</td>\n",
       "      <td>- 0.2km from city centre</td>\n",
       "      <td>(4346)</td>\n",
       "    </tr>\n",
       "    <tr>\n",
       "      <th>19</th>\n",
       "      <td>Phoenix Hostel</td>\n",
       "      <td>- 4.2km from city centre</td>\n",
       "      <td>(4699)</td>\n",
       "    </tr>\n",
       "    <tr>\n",
       "      <th>20</th>\n",
       "      <td>Hostelle - women only hostel London</td>\n",
       "      <td>- 5.1km from city centre</td>\n",
       "      <td>(164)</td>\n",
       "    </tr>\n",
       "    <tr>\n",
       "      <th>21</th>\n",
       "      <td>Smart Hyde Park Inn Hostel</td>\n",
       "      <td>- 5km from city centre</td>\n",
       "      <td>(6833)</td>\n",
       "    </tr>\n",
       "    <tr>\n",
       "      <th>22</th>\n",
       "      <td>London Backpackers</td>\n",
       "      <td>- 11.9km from city centre</td>\n",
       "      <td>(4600)</td>\n",
       "    </tr>\n",
       "    <tr>\n",
       "      <th>23</th>\n",
       "      <td>YHA London Central</td>\n",
       "      <td>- 2.9km from city centre</td>\n",
       "      <td>(4814)</td>\n",
       "    </tr>\n",
       "    <tr>\n",
       "      <th>24</th>\n",
       "      <td>Kabannas London St Pancras</td>\n",
       "      <td>- 3.3km from city centre</td>\n",
       "      <td>(3018)</td>\n",
       "    </tr>\n",
       "    <tr>\n",
       "      <th>25</th>\n",
       "      <td>Barmy Badger Backpackers</td>\n",
       "      <td>- 5.5km from city centre</td>\n",
       "      <td>(2059)</td>\n",
       "    </tr>\n",
       "    <tr>\n",
       "      <th>26</th>\n",
       "      <td>Astor Victoria</td>\n",
       "      <td>- 1.8km from city centre</td>\n",
       "      <td>(15132)</td>\n",
       "    </tr>\n",
       "    <tr>\n",
       "      <th>27</th>\n",
       "      <td>Astor Kensington</td>\n",
       "      <td>- 4.9km from city centre</td>\n",
       "      <td>(6612)</td>\n",
       "    </tr>\n",
       "    <tr>\n",
       "      <th>28</th>\n",
       "      <td>Bell House Hostel</td>\n",
       "      <td>- 4.2km from city centre</td>\n",
       "      <td>(166)</td>\n",
       "    </tr>\n",
       "    <tr>\n",
       "      <th>29</th>\n",
       "      <td>Saint James Backpackers</td>\n",
       "      <td>- 5.5km from city centre</td>\n",
       "      <td>(1966)</td>\n",
       "    </tr>\n",
       "  </tbody>\n",
       "</table>\n",
       "</div>"
      ],
      "text/plain": [
       "                                Hostel name                   distance  \\\n",
       "0               Wombat's City Hostel London   - 3.6km from city centre   \n",
       "1             Palmers Lodge - Swiss Cottage   - 6.5km from city centre   \n",
       "2                          NX London Hostel   - 6.1km from city centre   \n",
       "3                      Urbany Hostel London   - 5.4km from city centre   \n",
       "4                       Onefam Notting Hill   - 5.5km from city centre   \n",
       "5                           Onefam Waterloo   - 0.7km from city centre   \n",
       "6                          Generator London     - 3km from city centre   \n",
       "7                  St Christopher's Village   - 1.8km from city centre   \n",
       "8                                  Clink261   - 3.2km from city centre   \n",
       "9         Safestay London Elephant & Castle   - 1.7km from city centre   \n",
       "10                       No.8 Seven Sisters     - 9km from city centre   \n",
       "11             No.8 Willesden Hostel London    - 10km from city centre   \n",
       "12              Smart Russell Square Hostel   - 2.6km from city centre   \n",
       "13                          Astor Hyde Park   - 4.3km from city centre   \n",
       "14                         Astor Museum Inn   - 2.2km from city centre   \n",
       "15       Destinations Hostels @ The Gallery   - 1.7km from city centre   \n",
       "16                  Queen Elizabeth Chelsea   - 5.7km from city centre   \n",
       "17  Safestay London Kensington Holland Park   - 5.8km from city centre   \n",
       "18                        The Walrus Hostel   - 0.2km from city centre   \n",
       "19                           Phoenix Hostel   - 4.2km from city centre   \n",
       "20      Hostelle - women only hostel London   - 5.1km from city centre   \n",
       "21               Smart Hyde Park Inn Hostel     - 5km from city centre   \n",
       "22                       London Backpackers  - 11.9km from city centre   \n",
       "23                       YHA London Central   - 2.9km from city centre   \n",
       "24               Kabannas London St Pancras   - 3.3km from city centre   \n",
       "25                 Barmy Badger Backpackers   - 5.5km from city centre   \n",
       "26                           Astor Victoria   - 1.8km from city centre   \n",
       "27                         Astor Kensington   - 4.9km from city centre   \n",
       "28                        Bell House Hostel   - 4.2km from city centre   \n",
       "29                  Saint James Backpackers   - 5.5km from city centre   \n",
       "\n",
       "   totalreviews  \n",
       "0       (16293)  \n",
       "1       (16113)  \n",
       "2        (2311)  \n",
       "3        (1211)  \n",
       "4        (2753)  \n",
       "5         (279)  \n",
       "6        (8189)  \n",
       "7       (13016)  \n",
       "8         (599)  \n",
       "9        (5323)  \n",
       "10       (4236)  \n",
       "11       (5251)  \n",
       "12      (10261)  \n",
       "13      (12379)  \n",
       "14       (9494)  \n",
       "15        (357)  \n",
       "16       (3763)  \n",
       "17       (1847)  \n",
       "18       (4346)  \n",
       "19       (4699)  \n",
       "20        (164)  \n",
       "21       (6833)  \n",
       "22       (4600)  \n",
       "23       (4814)  \n",
       "24       (3018)  \n",
       "25       (2059)  \n",
       "26      (15132)  \n",
       "27       (6612)  \n",
       "28        (166)  \n",
       "29       (1966)  "
      ]
     },
     "execution_count": 14,
     "metadata": {},
     "output_type": "execute_result"
    }
   ],
   "source": [
    "df = pd.DataFrame({'Hostel name': Hostel_name, 'distance': distance, 'totalreviews': total_reviews})\n",
    "df"
   ]
  },
  {
   "cell_type": "code",
   "execution_count": 15,
   "id": "a4919711",
   "metadata": {},
   "outputs": [
    {
     "data": {
      "text/html": [
       "<div>\n",
       "<style scoped>\n",
       "    .dataframe tbody tr th:only-of-type {\n",
       "        vertical-align: middle;\n",
       "    }\n",
       "\n",
       "    .dataframe tbody tr th {\n",
       "        vertical-align: top;\n",
       "    }\n",
       "\n",
       "    .dataframe thead th {\n",
       "        text-align: right;\n",
       "    }\n",
       "</style>\n",
       "<table border=\"1\" class=\"dataframe\">\n",
       "  <thead>\n",
       "    <tr style=\"text-align: right;\">\n",
       "      <th></th>\n",
       "      <th>ratings</th>\n",
       "      <th>overall reviews</th>\n",
       "    </tr>\n",
       "  </thead>\n",
       "  <tbody>\n",
       "    <tr>\n",
       "      <th>0</th>\n",
       "      <td>8.7</td>\n",
       "      <td>Fabulous</td>\n",
       "    </tr>\n",
       "    <tr>\n",
       "      <th>1</th>\n",
       "      <td>7.6</td>\n",
       "      <td>Very Good</td>\n",
       "    </tr>\n",
       "    <tr>\n",
       "      <th>2</th>\n",
       "      <td>9.2</td>\n",
       "      <td>Superb</td>\n",
       "    </tr>\n",
       "    <tr>\n",
       "      <th>3</th>\n",
       "      <td>8.7</td>\n",
       "      <td>Fabulous</td>\n",
       "    </tr>\n",
       "    <tr>\n",
       "      <th>4</th>\n",
       "      <td>8.8</td>\n",
       "      <td>Fabulous</td>\n",
       "    </tr>\n",
       "    <tr>\n",
       "      <th>5</th>\n",
       "      <td>9.6</td>\n",
       "      <td>Superb</td>\n",
       "    </tr>\n",
       "    <tr>\n",
       "      <th>6</th>\n",
       "      <td>9.6</td>\n",
       "      <td>Superb</td>\n",
       "    </tr>\n",
       "    <tr>\n",
       "      <th>7</th>\n",
       "      <td>9.6</td>\n",
       "      <td>Superb</td>\n",
       "    </tr>\n",
       "    <tr>\n",
       "      <th>8</th>\n",
       "      <td>7.5</td>\n",
       "      <td>Very Good</td>\n",
       "    </tr>\n",
       "    <tr>\n",
       "      <th>9</th>\n",
       "      <td>7.6</td>\n",
       "      <td>Very Good</td>\n",
       "    </tr>\n",
       "    <tr>\n",
       "      <th>10</th>\n",
       "      <td>8.3</td>\n",
       "      <td>Fabulous</td>\n",
       "    </tr>\n",
       "    <tr>\n",
       "      <th>11</th>\n",
       "      <td>7.6</td>\n",
       "      <td>Very Good</td>\n",
       "    </tr>\n",
       "    <tr>\n",
       "      <th>12</th>\n",
       "      <td>7.7</td>\n",
       "      <td>Very Good</td>\n",
       "    </tr>\n",
       "    <tr>\n",
       "      <th>13</th>\n",
       "      <td>7.0</td>\n",
       "      <td>Very Good</td>\n",
       "    </tr>\n",
       "    <tr>\n",
       "      <th>14</th>\n",
       "      <td>7.5</td>\n",
       "      <td>Very Good</td>\n",
       "    </tr>\n",
       "    <tr>\n",
       "      <th>15</th>\n",
       "      <td>8.0</td>\n",
       "      <td>Fabulous</td>\n",
       "    </tr>\n",
       "    <tr>\n",
       "      <th>16</th>\n",
       "      <td>8.4</td>\n",
       "      <td>Fabulous</td>\n",
       "    </tr>\n",
       "    <tr>\n",
       "      <th>17</th>\n",
       "      <td>9.0</td>\n",
       "      <td>Superb</td>\n",
       "    </tr>\n",
       "    <tr>\n",
       "      <th>18</th>\n",
       "      <td>7.7</td>\n",
       "      <td>Very Good</td>\n",
       "    </tr>\n",
       "    <tr>\n",
       "      <th>19</th>\n",
       "      <td>7.2</td>\n",
       "      <td>Very Good</td>\n",
       "    </tr>\n",
       "    <tr>\n",
       "      <th>20</th>\n",
       "      <td>8.1</td>\n",
       "      <td>Fabulous</td>\n",
       "    </tr>\n",
       "    <tr>\n",
       "      <th>21</th>\n",
       "      <td>6.9</td>\n",
       "      <td>Good</td>\n",
       "    </tr>\n",
       "    <tr>\n",
       "      <th>22</th>\n",
       "      <td>8.6</td>\n",
       "      <td>Fabulous</td>\n",
       "    </tr>\n",
       "    <tr>\n",
       "      <th>23</th>\n",
       "      <td>7.8</td>\n",
       "      <td>Very Good</td>\n",
       "    </tr>\n",
       "    <tr>\n",
       "      <th>24</th>\n",
       "      <td>8.1</td>\n",
       "      <td>Fabulous</td>\n",
       "    </tr>\n",
       "    <tr>\n",
       "      <th>25</th>\n",
       "      <td>8.9</td>\n",
       "      <td>Fabulous</td>\n",
       "    </tr>\n",
       "    <tr>\n",
       "      <th>26</th>\n",
       "      <td>8.3</td>\n",
       "      <td>Fabulous</td>\n",
       "    </tr>\n",
       "    <tr>\n",
       "      <th>27</th>\n",
       "      <td>8.9</td>\n",
       "      <td>Fabulous</td>\n",
       "    </tr>\n",
       "    <tr>\n",
       "      <th>28</th>\n",
       "      <td>7.3</td>\n",
       "      <td>Very Good</td>\n",
       "    </tr>\n",
       "    <tr>\n",
       "      <th>29</th>\n",
       "      <td>8.1</td>\n",
       "      <td>Fabulous</td>\n",
       "    </tr>\n",
       "    <tr>\n",
       "      <th>30</th>\n",
       "      <td>7.3</td>\n",
       "      <td>Very Good</td>\n",
       "    </tr>\n",
       "    <tr>\n",
       "      <th>31</th>\n",
       "      <td>7.3</td>\n",
       "      <td>Very Good</td>\n",
       "    </tr>\n",
       "  </tbody>\n",
       "</table>\n",
       "</div>"
      ],
      "text/plain": [
       "   ratings overall reviews\n",
       "0      8.7        Fabulous\n",
       "1      7.6       Very Good\n",
       "2      9.2          Superb\n",
       "3      8.7        Fabulous\n",
       "4      8.8        Fabulous\n",
       "5      9.6          Superb\n",
       "6      9.6          Superb\n",
       "7      9.6          Superb\n",
       "8      7.5       Very Good\n",
       "9      7.6       Very Good\n",
       "10     8.3        Fabulous\n",
       "11     7.6       Very Good\n",
       "12     7.7       Very Good\n",
       "13     7.0       Very Good\n",
       "14     7.5       Very Good\n",
       "15     8.0        Fabulous\n",
       "16     8.4        Fabulous\n",
       "17     9.0          Superb\n",
       "18     7.7       Very Good\n",
       "19     7.2       Very Good\n",
       "20     8.1        Fabulous\n",
       "21     6.9            Good\n",
       "22     8.6        Fabulous\n",
       "23     7.8       Very Good\n",
       "24     8.1        Fabulous\n",
       "25     8.9        Fabulous\n",
       "26     8.3        Fabulous\n",
       "27     8.9        Fabulous\n",
       "28     7.3       Very Good\n",
       "29     8.1        Fabulous\n",
       "30     7.3       Very Good\n",
       "31     7.3       Very Good"
      ]
     },
     "execution_count": 15,
     "metadata": {},
     "output_type": "execute_result"
    }
   ],
   "source": [
    "df1 = pd.DataFrame({'ratings': ratings, 'overall reviews': overall_reviews})\n",
    "df1"
   ]
  },
  {
   "cell_type": "code",
   "execution_count": null,
   "id": "9a9bd869",
   "metadata": {},
   "outputs": [],
   "source": []
  }
 ],
 "metadata": {
  "kernelspec": {
   "display_name": "Python 3 (ipykernel)",
   "language": "python",
   "name": "python3"
  },
  "language_info": {
   "codemirror_mode": {
    "name": "ipython",
    "version": 3
   },
   "file_extension": ".py",
   "mimetype": "text/x-python",
   "name": "python",
   "nbconvert_exporter": "python",
   "pygments_lexer": "ipython3",
   "version": "3.11.4"
  }
 },
 "nbformat": 4,
 "nbformat_minor": 5
}
